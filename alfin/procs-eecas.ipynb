{
 "cells": [
  {
   "cell_type": "code",
   "execution_count": 1,
   "metadata": {
    "ExecuteTime": {
     "end_time": "2021-11-10T09:52:17.955778Z",
     "start_time": "2021-11-10T09:52:16.355831Z"
    }
   },
   "outputs": [
    {
     "name": "stdout",
     "output_type": "stream",
     "text": [
      "2021-11-10 17:52:17,828 - sagas.ofbiz.connector - INFO - connect to py4j-gateway localhost 22333\n"
     ]
    }
   ],
   "source": [
    "from sagas.modules.deles import *\n",
    "# oc.import_package('com.bluecc.triggers.Hubs')"
   ]
  },
  {
   "cell_type": "code",
   "execution_count": 2,
   "metadata": {
    "ExecuteTime": {
     "end_time": "2021-11-10T09:52:26.172560Z",
     "start_time": "2021-11-10T09:52:26.102755Z"
    }
   },
   "outputs": [
    {
     "data": {
      "text/plain": [
       "{'InventoryItem', 'WorkEffortNote', 'ElectronicText', 'WorkEffortAttribute', 'FinAccountTrans', 'ProductFeature', 'Product', 'ProductPrice', 'ProductAttribute', 'ProductCategoryRollup', 'Picklist', 'OrderPaymentPreference', 'SupplierProduct', 'ProductFeatureAppl', 'GoodIndentification', 'PartyContent', 'WorkEffort', 'ContentAttribute', 'ProductGroupOrder', 'ProductFeatureGroupAppl', 'ContentRole', 'ProductAssoc', 'WorkEffortContent', 'OrderHeader', 'WorkEffortPartyAssignment', 'InventoryItemDetail', 'DataResource', 'ProductContent', 'ContentMetaData', 'ProductCategoryMember', 'WorkEffortContent  ', 'FinAccountAuth', 'WebSiteContent  ', 'ProdCatalogCategory', 'Content', 'OrderItem', 'ProductCategoryContent', 'GoodIdentification'}"
      ]
     },
     "execution_count": 2,
     "metadata": {},
     "output_type": "execute_result"
    }
   ],
   "source": [
    "models=oc.hubs.getComponent('models')\n",
    "rules=models.getEcaRules()\n",
    "rules.keySet()"
   ]
  },
  {
   "cell_type": "code",
   "execution_count": 3,
   "metadata": {
    "ExecuteTime": {
     "end_time": "2021-11-10T09:54:06.674616Z",
     "start_time": "2021-11-10T09:54:06.603833Z"
    }
   },
   "outputs": [
    {
     "data": {
      "text/plain": [
       "26"
      ]
     },
     "execution_count": 3,
     "metadata": {},
     "output_type": "execute_result"
    }
   ],
   "source": [
    "services=oc.hubs.getComponent('services')\n",
    "groups=services.getServiceGroups()\n",
    "len(groups)"
   ]
  },
  {
   "cell_type": "code",
   "execution_count": null,
   "metadata": {},
   "outputs": [],
   "source": []
  }
 ],
 "metadata": {
  "kernelspec": {
   "display_name": "Python 3",
   "language": "python",
   "name": "python3"
  },
  "language_info": {
   "codemirror_mode": {
    "name": "ipython",
    "version": 3
   },
   "file_extension": ".py",
   "mimetype": "text/x-python",
   "name": "python",
   "nbconvert_exporter": "python",
   "pygments_lexer": "ipython3",
   "version": "3.7.7"
  },
  "varInspector": {
   "cols": {
    "lenName": 16,
    "lenType": 16,
    "lenVar": 40
   },
   "kernels_config": {
    "python": {
     "delete_cmd_postfix": "",
     "delete_cmd_prefix": "del ",
     "library": "var_list.py",
     "varRefreshCmd": "print(var_dic_list())"
    },
    "r": {
     "delete_cmd_postfix": ") ",
     "delete_cmd_prefix": "rm(",
     "library": "var_list.r",
     "varRefreshCmd": "cat(var_dic_list()) "
    }
   },
   "types_to_exclude": [
    "module",
    "function",
    "builtin_function_or_method",
    "instance",
    "_Feature"
   ],
   "window_display": false
  }
 },
 "nbformat": 4,
 "nbformat_minor": 4
}
