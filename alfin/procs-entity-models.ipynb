{
 "cells": [
  {
   "cell_type": "code",
   "execution_count": 1,
   "metadata": {
    "ExecuteTime": {
     "end_time": "2021-06-07T17:59:15.719186Z",
     "start_time": "2021-06-07T17:59:14.027915Z"
    }
   },
   "outputs": [
    {
     "name": "stdout",
     "output_type": "stream",
     "text": [
      "2021-06-08 01:59:15,537 - sagas.ofbiz.connector - INFO - connect to py4j-gateway localhost 22333\n"
     ]
    },
    {
     "data": {
      "text/plain": [
       "JavaObject id=o0"
      ]
     },
     "execution_count": 1,
     "metadata": {},
     "output_type": "execute_result"
    }
   ],
   "source": [
    "from sagas.modules.deles import *\n",
    "oc.delegator"
   ]
  },
  {
   "cell_type": "code",
   "execution_count": 6,
   "metadata": {
    "ExecuteTime": {
     "end_time": "2021-06-07T18:04:35.185440Z",
     "start_time": "2021-06-07T18:04:35.050749Z"
    }
   },
   "outputs": [
    {
     "data": {
      "text/plain": [
       "['CartAbandonedLine']"
      ]
     },
     "execution_count": 6,
     "metadata": {},
     "output_type": "execute_result"
    }
   ],
   "source": [
    "from sagas.ofbiz.entities import all_entities, search_entity\n",
    "search_ent='cart'\n",
    "# ents=all_entities()\n",
    "# [e for e in ents if search_ent in ]\n",
    "search_entity(search_ent)"
   ]
  },
  {
   "cell_type": "code",
   "execution_count": 7,
   "metadata": {
    "ExecuteTime": {
     "end_time": "2021-06-07T18:05:01.464805Z",
     "start_time": "2021-06-07T18:05:01.293924Z"
    }
   },
   "outputs": [
    {
     "data": {
      "text/plain": [
       "['ShoppingListType',\n",
       " 'ShoppingListWorkEffort',\n",
       " 'ShoppingListItem',\n",
       " 'ShoppingList',\n",
       " 'ShoppingListItemSurvey',\n",
       " 'WorkEffortShoppingListView']"
      ]
     },
     "execution_count": 7,
     "metadata": {},
     "output_type": "execute_result"
    }
   ],
   "source": [
    "search_entity('shopping')"
   ]
  },
  {
   "cell_type": "code",
   "execution_count": 8,
   "metadata": {
    "ExecuteTime": {
     "end_time": "2021-06-07T18:11:46.616305Z",
     "start_time": "2021-06-07T18:11:46.405874Z"
    }
   },
   "outputs": [
    {
     "name": "stdout",
     "output_type": "stream",
     "text": [
      "ASSET_USAGE\n",
      "SERVICE\n",
      "GOOD\n",
      "RAW_MATERIAL\n",
      "SUBASSEMBLY\n",
      "FINISHED_GOOD\n",
      "DIGITAL_GOOD\n",
      "FINDIG_GOOD\n",
      "AGGREGATED\n",
      "MARKETING_PKG\n"
     ]
    }
   ],
   "source": [
    "for p in e().listProductType():\n",
    "    print(p['productTypeId'])"
   ]
  }
 ],
 "metadata": {
  "kernelspec": {
   "display_name": "Python 3",
   "language": "python",
   "name": "python3"
  },
  "language_info": {
   "codemirror_mode": {
    "name": "ipython",
    "version": 3
   },
   "file_extension": ".py",
   "mimetype": "text/x-python",
   "name": "python",
   "nbconvert_exporter": "python",
   "pygments_lexer": "ipython3",
   "version": "3.7.7"
  },
  "varInspector": {
   "cols": {
    "lenName": 16,
    "lenType": 16,
    "lenVar": 40
   },
   "kernels_config": {
    "python": {
     "delete_cmd_postfix": "",
     "delete_cmd_prefix": "del ",
     "library": "var_list.py",
     "varRefreshCmd": "print(var_dic_list())"
    },
    "r": {
     "delete_cmd_postfix": ") ",
     "delete_cmd_prefix": "rm(",
     "library": "var_list.r",
     "varRefreshCmd": "cat(var_dic_list()) "
    }
   },
   "types_to_exclude": [
    "module",
    "function",
    "builtin_function_or_method",
    "instance",
    "_Feature"
   ],
   "window_display": false
  }
 },
 "nbformat": 4,
 "nbformat_minor": 4
}
