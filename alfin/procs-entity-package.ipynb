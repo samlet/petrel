{
 "cells": [
  {
   "cell_type": "code",
   "execution_count": 5,
   "metadata": {
    "ExecuteTime": {
     "end_time": "2021-06-07T17:58:52.108941Z",
     "start_time": "2021-06-07T17:58:52.056490Z"
    }
   },
   "outputs": [
    {
     "data": {
      "text/plain": [
       "JavaObject id=o369"
      ]
     },
     "execution_count": 5,
     "metadata": {},
     "output_type": "execute_result"
    }
   ],
   "source": [
    "from sagas.modules.deles import *\n",
    "oc.delegator"
   ]
  },
  {
   "cell_type": "code",
   "execution_count": 2,
   "metadata": {
    "ExecuteTime": {
     "end_time": "2021-06-07T10:16:33.044582Z",
     "start_time": "2021-06-07T10:16:32.990701Z"
    }
   },
   "outputs": [
    {
     "name": "stdout",
     "output_type": "stream",
     "text": [
      "com.bluecc.workload.feature {'WorkloadFeature', 'WorkloadFeatureAppl', 'WorkloadFeatureApplType'}\n",
      "com.bluecc.workload.workload {'Workload', 'WorkloadItem', 'WorkloadStatus', 'WorkloadType'}\n"
     ]
    }
   ],
   "source": [
    "reader=oc.delegator.getModelReader()\n",
    "filters=oc.jset(\"com.bluecc.workload\")\n",
    "ent_map=reader.getEntitiesByPackage(filters, oc.jset())\n",
    "for k,v in ent_map.items():\n",
    "    print(k, v)"
   ]
  },
  {
   "cell_type": "code",
   "execution_count": 3,
   "metadata": {
    "ExecuteTime": {
     "end_time": "2021-06-07T10:16:33.373202Z",
     "start_time": "2021-06-07T10:16:33.054385Z"
    }
   },
   "outputs": [],
   "source": [
    "from meta_generator import MetaGenerator\n",
    "metagen=MetaGenerator(\"workload\")\n",
    "all_ents=[]\n",
    "for k,v in ent_map.items():\n",
    "    all_ents.extend(v)\n",
    "\n",
    "metagen.abi(all_ents)"
   ]
  },
  {
   "cell_type": "code",
   "execution_count": 4,
   "metadata": {
    "ExecuteTime": {
     "end_time": "2021-06-07T10:22:45.677988Z",
     "start_time": "2021-06-07T10:22:45.673434Z"
    }
   },
   "outputs": [],
   "source": [
    "pkg_meta={'name':\"workload\"}"
   ]
  }
 ],
 "metadata": {
  "kernelspec": {
   "display_name": "Python 3",
   "language": "python",
   "name": "python3"
  },
  "language_info": {
   "codemirror_mode": {
    "name": "ipython",
    "version": 3
   },
   "file_extension": ".py",
   "mimetype": "text/x-python",
   "name": "python",
   "nbconvert_exporter": "python",
   "pygments_lexer": "ipython3",
   "version": "3.7.7"
  },
  "varInspector": {
   "cols": {
    "lenName": 16,
    "lenType": 16,
    "lenVar": 40
   },
   "kernels_config": {
    "python": {
     "delete_cmd_postfix": "",
     "delete_cmd_prefix": "del ",
     "library": "var_list.py",
     "varRefreshCmd": "print(var_dic_list())"
    },
    "r": {
     "delete_cmd_postfix": ") ",
     "delete_cmd_prefix": "rm(",
     "library": "var_list.r",
     "varRefreshCmd": "cat(var_dic_list()) "
    }
   },
   "types_to_exclude": [
    "module",
    "function",
    "builtin_function_or_method",
    "instance",
    "_Feature"
   ],
   "window_display": false
  }
 },
 "nbformat": 4,
 "nbformat_minor": 4
}
