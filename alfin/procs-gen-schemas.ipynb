{
 "cells": [
  {
   "cell_type": "code",
   "execution_count": 1,
   "metadata": {
    "ExecuteTime": {
     "end_time": "2021-06-09T19:37:32.143618Z",
     "start_time": "2021-06-09T19:37:32.114400Z"
    }
   },
   "outputs": [
    {
     "data": {
      "text/plain": [
       "['Purchase_order_test_data.xml']"
      ]
     },
     "execution_count": 1,
     "metadata": {},
     "output_type": "execute_result"
    }
   ],
   "source": [
    "from os import listdir\n",
    "from os.path import isfile, join\n",
    "seed_path=\"./assets/cases/purchaseorder\"\n",
    "onlyfiles = [f for f in listdir(seed_path) if isfile(join(seed_path, f)) and f.endswith('.xml')]\n",
    "onlyfiles"
   ]
  },
  {
   "cell_type": "code",
   "execution_count": 11,
   "metadata": {
    "ExecuteTime": {
     "end_time": "2021-06-09T19:59:43.988184Z",
     "start_time": "2021-06-09T19:59:43.980652Z"
    }
   },
   "outputs": [
    {
     "data": {
      "text/plain": [
       "'purchaseorder'"
      ]
     },
     "execution_count": 11,
     "metadata": {},
     "output_type": "execute_result"
    }
   ],
   "source": [
    "import os\n",
    "os.path.basename(seed_path)"
   ]
  },
  {
   "cell_type": "code",
   "execution_count": 2,
   "metadata": {
    "ExecuteTime": {
     "end_time": "2021-06-09T19:37:32.186852Z",
     "start_time": "2021-06-09T19:37:32.162943Z"
    }
   },
   "outputs": [
    {
     "data": {
      "text/plain": [
       "(12,\n",
       " {'ItemIssuance',\n",
       "  'OrderContactMech',\n",
       "  'OrderHeader',\n",
       "  'OrderItem',\n",
       "  'OrderItemPriceInfo',\n",
       "  'OrderItemShipGroup',\n",
       "  'OrderItemShipGroupAssoc',\n",
       "  'OrderRole',\n",
       "  'OrderStatus',\n",
       "  'Payment',\n",
       "  'Shipment',\n",
       "  'ShipmentItem'})"
      ]
     },
     "execution_count": 2,
     "metadata": {},
     "output_type": "execute_result"
    }
   ],
   "source": [
    "import xml.etree.ElementTree as ET\n",
    "\n",
    "def collect_types(f):\n",
    "    xml_path=join(seed_path, f)\n",
    "    tree = ET.parse(xml_path)\n",
    "    root = tree.getroot()\n",
    "    ent_types=set([c.tag for c in root])\n",
    "    return ent_types\n",
    "\n",
    "all_types=set()\n",
    "for f in onlyfiles:\n",
    "    all_types.update(collect_types(f))\n",
    "\n",
    "len(all_types), all_types"
   ]
  },
  {
   "cell_type": "code",
   "execution_count": 3,
   "metadata": {
    "ExecuteTime": {
     "end_time": "2021-06-09T19:37:34.805115Z",
     "start_time": "2021-06-09T19:37:32.192187Z"
    }
   },
   "outputs": [
    {
     "name": "stdout",
     "output_type": "stream",
     "text": [
      "2021-06-10 03:37:33,874 - sagas.ofbiz.connector - INFO - connect to py4j-gateway localhost 22333\n"
     ]
    }
   ],
   "source": [
    "from meta_generator import metagen\n",
    "pkg='purchaseorder'\n",
    "metagen.gen_ents(pkg, all_types, pkg)"
   ]
  },
  {
   "cell_type": "code",
   "execution_count": 8,
   "metadata": {
    "ExecuteTime": {
     "end_time": "2021-06-09T19:52:40.085679Z",
     "start_time": "2021-06-09T19:52:39.959634Z"
    }
   },
   "outputs": [
    {
     "data": {
      "text/plain": [
       "[{'name': 'ShipmentItem',\n",
       "  'relations': [{'type': 'one', 'rel': 'Shipment'},\n",
       "   {'type': 'many', 'rel': 'ItemIssuance'}]},\n",
       " {'name': 'OrderItem',\n",
       "  'relations': [{'type': 'one', 'rel': 'OrderHeader'},\n",
       "   {'type': 'many', 'rel': 'ItemIssuance'},\n",
       "   {'type': 'many', 'rel': 'OrderItemPriceInfo'},\n",
       "   {'type': 'many', 'rel': 'OrderItemShipGroupAssoc'},\n",
       "   {'type': 'many', 'rel': 'OrderStatus'}]},\n",
       " {'name': 'OrderItemShipGroupAssoc',\n",
       "  'relations': [{'type': 'one', 'rel': 'OrderHeader'},\n",
       "   {'type': 'one', 'rel': 'OrderItem'},\n",
       "   {'type': 'one', 'rel': 'OrderItemShipGroup'}]},\n",
       " {'name': 'ItemIssuance',\n",
       "  'relations': [{'type': 'one-nofk', 'rel': 'Shipment'},\n",
       "   {'type': 'one', 'rel': 'ShipmentItem'},\n",
       "   {'type': 'one-nofk', 'rel': 'OrderHeader'},\n",
       "   {'type': 'one', 'rel': 'OrderItem'}]},\n",
       " {'name': 'OrderContactMech',\n",
       "  'relations': [{'type': 'one', 'rel': 'OrderHeader'}]},\n",
       " {'name': 'OrderStatus',\n",
       "  'relations': [{'type': 'one', 'rel': 'OrderHeader'},\n",
       "   {'type': 'one-nofk', 'rel': 'OrderItem'}]},\n",
       " {'name': 'OrderItemPriceInfo',\n",
       "  'relations': [{'type': 'one-nofk', 'rel': 'OrderHeader'},\n",
       "   {'type': 'one', 'rel': 'OrderItem'}]},\n",
       " {'name': 'OrderHeader',\n",
       "  'relations': [{'type': 'many', 'rel': 'ItemIssuance'},\n",
       "   {'type': 'many', 'rel': 'OrderContactMech'},\n",
       "   {'type': 'many', 'rel': 'OrderItem'},\n",
       "   {'type': 'many', 'rel': 'OrderItemPriceInfo'},\n",
       "   {'type': 'many', 'rel': 'OrderItemShipGroup'},\n",
       "   {'type': 'many', 'rel': 'OrderItemShipGroupAssoc'},\n",
       "   {'type': 'many', 'rel': 'OrderRole'},\n",
       "   {'type': 'many', 'rel': 'OrderStatus'},\n",
       "   {'type': 'many', 'rel': 'Shipment'}]},\n",
       " {'name': 'OrderRole',\n",
       "  'relations': [{'type': 'one', 'rel': 'OrderHeader'},\n",
       "   {'type': 'many', 'rel': 'OrderItem'}]},\n",
       " {'name': 'Payment', 'relations': []},\n",
       " {'name': 'OrderItemShipGroup',\n",
       "  'relations': [{'type': 'one', 'rel': 'OrderHeader'},\n",
       "   {'type': 'many', 'rel': 'OrderItemShipGroupAssoc'},\n",
       "   {'type': 'many', 'rel': 'Shipment'}]},\n",
       " {'name': 'Shipment',\n",
       "  'relations': [{'type': 'one', 'rel': 'OrderHeader'},\n",
       "   {'type': 'one-nofk', 'rel': 'OrderItemShipGroup'},\n",
       "   {'type': 'many', 'rel': 'ItemIssuance'},\n",
       "   {'type': 'many', 'rel': 'ShipmentItem'}]}]"
      ]
     },
     "execution_count": 8,
     "metadata": {},
     "output_type": "execute_result"
    }
   ],
   "source": [
    "from sagas.ofbiz.entities import entity\n",
    "edges=[]\n",
    "for typ in all_types:\n",
    "    entity_meta=entity(typ)\n",
    "    model=entity_meta.model\n",
    "    relations=[{\"type\": rel.getType(),\n",
    "                \"rel\": rel.getRelEntityName()}\n",
    "               for rel in model.getRelations() if rel.getRelEntityName() in all_types]\n",
    "    edges.append({\"name\":typ, \"relations\": relations})\n",
    "\n",
    "edges    "
   ]
  }
 ],
 "metadata": {
  "kernelspec": {
   "display_name": "Python 3",
   "language": "python",
   "name": "python3"
  },
  "language_info": {
   "codemirror_mode": {
    "name": "ipython",
    "version": 3
   },
   "file_extension": ".py",
   "mimetype": "text/x-python",
   "name": "python",
   "nbconvert_exporter": "python",
   "pygments_lexer": "ipython3",
   "version": "3.7.7"
  },
  "varInspector": {
   "cols": {
    "lenName": 16,
    "lenType": 16,
    "lenVar": 40
   },
   "kernels_config": {
    "python": {
     "delete_cmd_postfix": "",
     "delete_cmd_prefix": "del ",
     "library": "var_list.py",
     "varRefreshCmd": "print(var_dic_list())"
    },
    "r": {
     "delete_cmd_postfix": ") ",
     "delete_cmd_prefix": "rm(",
     "library": "var_list.r",
     "varRefreshCmd": "cat(var_dic_list()) "
    }
   },
   "types_to_exclude": [
    "module",
    "function",
    "builtin_function_or_method",
    "instance",
    "_Feature"
   ],
   "window_display": false
  }
 },
 "nbformat": 4,
 "nbformat_minor": 4
}
