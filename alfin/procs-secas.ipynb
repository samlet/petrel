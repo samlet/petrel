{
 "cells": [
  {
   "cell_type": "code",
   "execution_count": 1,
   "metadata": {
    "ExecuteTime": {
     "end_time": "2021-11-10T10:25:15.352219Z",
     "start_time": "2021-11-10T10:25:13.753378Z"
    }
   },
   "outputs": [
    {
     "name": "stdout",
     "output_type": "stream",
     "text": [
      "2021-11-10 18:25:15,221 - sagas.ofbiz.connector - INFO - connect to py4j-gateway localhost 22333\n"
     ]
    }
   ],
   "source": [
    "from sagas.modules.deles import *\n",
    "services=oc.hubs.getComponent('services')\n",
    "ecas=services.getEcaRules()"
   ]
  },
  {
   "cell_type": "code",
   "execution_count": 2,
   "metadata": {
    "ExecuteTime": {
     "end_time": "2021-11-10T10:25:19.402138Z",
     "start_time": "2021-11-10T10:25:19.351749Z"
    }
   },
   "outputs": [
    {
     "data": {
      "text/plain": [
       "{'updateRequirement', 'createCustRequestItem', 'createReturnItem', 'testScv', 'updateContactListParty', 'addProdCatalogToParty', 'createPhysicalInventoryAndVariance', 'createWorkEffortQuote', 'sendMail', 'cancelOrderItem', 'testCommit', 'removePaymentApplication', 'createFile', 'deleteCustRequestParty', 'sendEmailToContactList', 'appendOrderItem', 'expireCustRequestContent', 'createContact', 'updateOrderAdjustment', 'createContentRole', 'retryFailedOrderAuth', 'createPaymentApplication', 'createProduct', 'updateReturnItem', 'updateCreditCardAndAddress', 'setPaymentStatus', 'createCustRequestContent', 'createQuoteRole', 'updateOrderDeliverySchedule', 'updateCommunicationEvent', 'createEmailAddressVerification', 'createFinAccountTrans', 'createPaymentFromPreference', 'createBOMAssoc', 'deletePartyRole', 'updateAcctgTrans', 'updateGlReconciliationEntry', 'createRequirementRole', 'updateGiftCard', 'createWorkEffortRequestItem', 'finAccountWithdraw', 'createContent', 'updateCustRequestAttribute', 'createPartyGroup', 'addPartyToFacility', 'createWorkRequirementFulfillment', 'voidPayment', 'createCustRequest', 'createOtherDataResource', 'createElectronicText', 'updateCustRequest', 'deleteProductAssoc', 'deleteProductPrice', 'createCustRequestAttribute', 'facilityGenericPermission', 'updateWorkEffort', 'updatePartyGroup', 'updateDataText', 'createRequirement', 'sendOrderConfirmation', 'assignInventoryToWorkEffort', 'createTimeEntry', 'createCustRequestItemNote', 'createPartyAcctgPreference', 'updateInventoryTransfer', 'createPayment', 'createInventoryItemDetail', 'createOrderDeliverySchedule', 'updateCustRequestParty', 'createWorkEffortRequest', 'createCostComponent', 'createSurveyQuestion', 'updateReturnStatusFromReceipt', 'postAcctgTrans', 'createPartyRelationship', 'createDataResource', 'changeAllocationPlanStatus', 'processRefundReturn', 'createPicklistFromOrders', 'updateShipGroupShipInfo', 'setOrderStatus', 'updatePerson', 'createSalesOpportunity', 'createItemIssuance', 'createContactListPartyStatus', 'createShipment', 'updatePartyEmailAddress', 'createCreditCardAndAddress', 'updateCreditCard', 'updateShoppingList', 'createAcctgTransAndEntries', 'setInvoiceStatus', 'updateProduct', 'testServiceEcaGlobalEventExec', 'testServiceEcaGlobalEventExecToRollback', 'createGlReconciliationEntry', 'createCommunicationEvent', 'createCommunicationEventWorkEff', 'testRollback', 'createCommEventWorkEffort', 'updateReturnHeader', 'addPartyToFacilityGroup', 'updateShipment', 'processCreditReturn', 'updatePicklistItem', 'deleteGlReconciliationEntry', 'createReturnHeader', 'createPartyContactMech', 'updatePostalAddress', 'updateFixedAssetMeter', 'createTimesheetRole', 'createShoppingListItem', 'updateExample', 'partyBasePermissionCheck', 'updateShipmentRouteSegment', 'createFinAccountRole', 'changeOrderItemStatus', 'sendOrderBackorderNotification', 'createShoppingListWorkEffort', 'sendOrderCompleteNotification', 'deleteTimesheet', 'createPartyPostalAddress', 'createProductContent', 'updateInventoryItem', 'createProductStoreGroupRollup', 'receiveInventoryProduct', 'createDataText', 'setFinAccountTransStatus', 'deleteCustRequestContent', 'cancelOrderItemIssuanceFromSalesShipment', 'createFixedAssetMeter', 'fixedAssetPermissionCheck', 'createPaymentAndApplicationForParty', 'updateProductPrice', 'updateCustRequestItem', 'updateSalesOpportunity', 'createExample', 'sendContentToFtp', 'createOrderAdjustment', 'updateItemIssuance', 'workEffortGenericPermission', 'createCustRequestParty', 'sendOrderChangeNotification', 'processReplacementReturn', 'createDataResourceRole', 'createWorkEffort', 'changeOrderStatus', 'createInventoryTransfer', 'updateFinAccount', 'createWorkEffortInventoryProduced', 'balanceInventoryItems', 'createProductPrice', 'createShipmentReceipt', 'createProductStoreRole', 'updateGlReconciliation', 'reserveOrderItemInventory', 'updateContactListCommStatus', 'createBudgetRole', 'updateProductStoreGroup', 'createLead', 'createCreditCard', 'updatePassword', 'cancelInvoice', 'updateOrderItems', 'createUpdateCustomerAndShippingAddress', 'createPerson', 'createGiftCard', 'sendMailMultiPart', 'createAffiliate', 'sendOrderPayRetryNotification', 'createShipmentRouteSegment', 'createShipmentPackageContent', 'createBudget', 'createOrderHeaderWorkEffort', 'catalogPermissionCheck', 'createShoppingList', 'packBulkItems', 'authOrderPayments', 'updateTimesheet', 'addPartyToCategory', 'setCustRequestStatus', 'expireCustRequestParty', 'createBillingAccountRole', 'updateContent', 'deleteAcctgTrans', 'storeOrder', 'updatePicklist', 'deleteOrderAdjustment'}"
      ]
     },
     "execution_count": 2,
     "metadata": {},
     "output_type": "execute_result"
    }
   ],
   "source": [
    "ecas.keySet()"
   ]
  }
 ],
 "metadata": {
  "kernelspec": {
   "display_name": "Python 3",
   "language": "python",
   "name": "python3"
  },
  "language_info": {
   "codemirror_mode": {
    "name": "ipython",
    "version": 3
   },
   "file_extension": ".py",
   "mimetype": "text/x-python",
   "name": "python",
   "nbconvert_exporter": "python",
   "pygments_lexer": "ipython3",
   "version": "3.7.7"
  },
  "varInspector": {
   "cols": {
    "lenName": 16,
    "lenType": 16,
    "lenVar": 40
   },
   "kernels_config": {
    "python": {
     "delete_cmd_postfix": "",
     "delete_cmd_prefix": "del ",
     "library": "var_list.py",
     "varRefreshCmd": "print(var_dic_list())"
    },
    "r": {
     "delete_cmd_postfix": ") ",
     "delete_cmd_prefix": "rm(",
     "library": "var_list.r",
     "varRefreshCmd": "cat(var_dic_list()) "
    }
   },
   "types_to_exclude": [
    "module",
    "function",
    "builtin_function_or_method",
    "instance",
    "_Feature"
   ],
   "window_display": false
  }
 },
 "nbformat": 4,
 "nbformat_minor": 4
}
