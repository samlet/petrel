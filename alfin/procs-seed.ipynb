{
 "cells": [
  {
   "cell_type": "code",
   "execution_count": 1,
   "metadata": {
    "ExecuteTime": {
     "end_time": "2021-06-05T17:45:09.516579Z",
     "start_time": "2021-06-05T17:45:09.497209Z"
    }
   },
   "outputs": [
    {
     "data": {
      "text/plain": [
       "['CommonExtSeedData.xml',\n",
       " 'PartySeedData.xml',\n",
       " 'ManufacturingSeedData.xml',\n",
       " 'OrderSeedData.xml',\n",
       " 'ProductSeedData.xml',\n",
       " 'ContentSeedData.xml',\n",
       " 'WorkEffortSeedData.xml',\n",
       " 'HumanResSeedData.xml',\n",
       " 'SecurityExtSeedData.xml',\n",
       " 'MarketingSeedData.xml',\n",
       " 'AccountingSeedData.xml']"
      ]
     },
     "execution_count": 1,
     "metadata": {},
     "output_type": "execute_result"
    }
   ],
   "source": [
    "from os import listdir\n",
    "from os.path import isfile, join\n",
    "seed_path=\"./assets/seed\"\n",
    "onlyfiles = [f for f in listdir(seed_path) if isfile(join(seed_path, f))]\n",
    "onlyfiles"
   ]
  },
  {
   "cell_type": "code",
   "execution_count": 2,
   "metadata": {
    "ExecuteTime": {
     "end_time": "2021-06-05T17:45:09.556273Z",
     "start_time": "2021-06-05T17:45:09.520509Z"
    }
   },
   "outputs": [
    {
     "data": {
      "text/plain": [
       "170"
      ]
     },
     "execution_count": 2,
     "metadata": {},
     "output_type": "execute_result"
    }
   ],
   "source": [
    "import xml.etree.ElementTree as ET\n",
    "\n",
    "def collect_types(f):\n",
    "    xml_path=join(seed_path, f)\n",
    "    tree = ET.parse(xml_path)\n",
    "    root = tree.getroot()\n",
    "    ent_types=set([c.tag for c in root])\n",
    "    return ent_types\n",
    "\n",
    "all_types=set()\n",
    "for f in onlyfiles:\n",
    "    all_types.update(collect_types(f))\n",
    "\n",
    "len(all_types)"
   ]
  },
  {
   "cell_type": "code",
   "execution_count": 3,
   "metadata": {
    "ExecuteTime": {
     "end_time": "2021-06-05T17:45:09.566286Z",
     "start_time": "2021-06-05T17:45:09.561354Z"
    }
   },
   "outputs": [
    {
     "name": "stdout",
     "output_type": "stream",
     "text": [
      "{'ShipmentGatewayConfig', 'ContentType', 'ProductMeterType', 'FixedAssetStdCostType', 'CustRequestType', 'EmplPositionType', 'ShoppingListType', 'EmploymentAppSourceType', 'ShipmentGatewayConfigType', 'EnumerationType', 'ReturnItemType', 'ShipmentGatewayDhl', 'CostComponentType', 'WorkEffortAssoc', 'TermType', 'WorkEffortType', 'ProductStoreGroup', 'MrpEventType', 'ProductCategoryType', 'ProductPriceActionType', 'ProductFeatureIactnType', 'PartyRole', 'StatusItem', 'DataResourceType', 'PaymentType', 'WebSiteContentType', 'ContentPurposeOperation', 'ProductFeatureType', 'EntityGroupEntry', 'ProdConfItemContentType', 'FixedAssetProductType', 'ContentAssocPredicate', 'TechDataCalendarWeek', 'WorkReqFulfType', 'PartyClassificationType', 'ReturnReason', 'WorkEffortContentType', 'PartyRelationshipType', 'ProductPricePurpose', 'WorkEffortPurposeType', 'BenefitType', 'ShipmentContactMechType', 'WorkEffortGoodStandardType', 'SurveyQuestionType', 'ReturnAdjustmentType', 'ProductType', 'RequirementType', 'GlAccountGroupType', 'EmplLeaveReasonType', 'OrderItemAssocType', 'ProductFeatureApplType', 'EmplLeaveType', 'EntityGroup', 'ContentPurposeType', 'InvoiceItemType', 'FacilityAssocType', 'SurveyApplType', 'SegmentGroupType', 'ContactMechPurposeType', 'BudgetType', 'ResponsibilityType', 'FinAccountTransType', 'VarianceReason', 'GlAccountClass', 'DocumentType', 'TerminationType', 'OrderItemType', 'TrainingClassType', 'MimeType', 'InvoiceItemTypeMap', 'FixedAssetIdentType', 'FileExtension', 'TaxAuthorityAssocType', 'GoodIdentificationType', 'ProductMaintType', 'TechDataCalendar', 'UserPreference', 'ProductAssocType', 'RoleType', 'ProductFeature', 'ShipmentGatewayFedex', 'SupplierPrefOrder', 'ContactMechTypePurpose', 'GlAccountType', 'CharacterSet', 'ContentAssocType', 'ProductCategoryContentType', 'AcctgTransEntryType', 'GlAccountCategoryType', 'ShipmentGatewayUps', 'OrderDenylistType', 'GlResourceType', 'CustomMethod', 'PerfReviewItemType', 'DataResource', 'WorkEffortAssocType', 'BudgetItemType', 'QuantityBreakType', 'PartyStatus', 'DeductionType', 'PartyType', 'UserLogin', 'ReturnHeaderType', 'DataTemplateType', 'Party', 'ContactListType', 'FacilityType', 'ProductPriceType', 'TaxAuthorityRateType', 'RateType', 'PartyIdentificationType', 'PaymentGatewayConfigType', 'PaymentMethodType', 'StatusValidChange', 'FinAccountType', 'ProductAverageCostType', 'WorkEffort', 'InvoiceContentType', 'PaymentGroupType', 'ProdCatalogCategoryType', 'PartyQualType', 'Content', 'OrderType', 'PeriodType', 'GlFiscalType', 'MetaDataPredicate', 'ProductFeatureCategory', 'SecurityPermission', 'PartyContentType', 'OrderAdjustmentType', 'JobInterviewType', 'Person', 'ProductContentType', 'SubscriptionType', 'ShipmentGatewayUsps', 'InventoryItemType', 'CustomScreenType', 'QuoteType', 'SecurityGroupPermission', 'FacilityGroup', 'WebAnalyticsType', 'CommunicationEventType', 'BudgetReviewResultType', 'GlXbrlClass', 'ContactMechType', 'GlAccountGroup', 'FacilityGroupType', 'AcctgTransType', 'FixedAssetType', 'InvoiceItemAssocType', 'Enumeration', 'ReturnType', 'AllocationPlanType', 'StatusType', 'SettlementTerm', 'MimeTypeHtmlTemplate', 'InvoiceType', 'CommunicationEventPrpTyp', 'CustomMethodType', 'ReturnItemTypeMap', 'RejectionReason', 'ContentOperation', 'PerfRatingType', 'TrackingCodeType', 'DataCategory', 'DataSource', 'ElectronicText', 'ShipmentType', 'CustRequestResolution', 'DataSourceType'}\n"
     ]
    }
   ],
   "source": [
    "print(all_types)"
   ]
  },
  {
   "cell_type": "code",
   "execution_count": 4,
   "metadata": {
    "ExecuteTime": {
     "end_time": "2021-06-05T17:45:09.579312Z",
     "start_time": "2021-06-05T17:45:09.570574Z"
    }
   },
   "outputs": [
    {
     "data": {
      "text/plain": [
       "['ProductMeterType',\n",
       " 'ProductStoreGroup',\n",
       " 'ProductCategoryType',\n",
       " 'ProductPriceActionType',\n",
       " 'ProductFeatureIactnType',\n",
       " 'ProductFeatureType',\n",
       " 'FixedAssetProductType',\n",
       " 'ProductPricePurpose',\n",
       " 'ProductType',\n",
       " 'ProductFeatureApplType',\n",
       " 'ProductMaintType',\n",
       " 'ProductAssocType',\n",
       " 'ProductFeature',\n",
       " 'ProductCategoryContentType',\n",
       " 'ProductPriceType',\n",
       " 'ProductAverageCostType',\n",
       " 'ProductFeatureCategory',\n",
       " 'ProductContentType']"
      ]
     },
     "execution_count": 4,
     "metadata": {},
     "output_type": "execute_result"
    }
   ],
   "source": [
    "[e for e in all_types if 'Product' in e]"
   ]
  },
  {
   "cell_type": "code",
   "execution_count": 5,
   "metadata": {
    "ExecuteTime": {
     "end_time": "2021-06-05T17:45:09.597261Z",
     "start_time": "2021-06-05T17:45:09.584579Z"
    }
   },
   "outputs": [
    {
     "data": {
      "text/plain": [
       "['OrderDemoData.xml',\n",
       " 'ManufacturingDemoData.xml',\n",
       " 'PartyDemoData.xml',\n",
       " 'CommonExtDemoData.xml',\n",
       " 'MarketingDemoData.xml',\n",
       " 'SecurityExtDemoData.xml',\n",
       " 'AccountingDemoData.xml',\n",
       " 'ContentDemoData.xml',\n",
       " 'ProductDemoData.xml',\n",
       " 'HumanresDemoData.xml',\n",
       " 'WorkEffortDemoData.xml']"
      ]
     },
     "execution_count": 5,
     "metadata": {},
     "output_type": "execute_result"
    }
   ],
   "source": [
    "seed_path=\"./assets/demo\"\n",
    "onlyfiles = [f for f in listdir(seed_path) if isfile(join(seed_path, f))]\n",
    "onlyfiles"
   ]
  },
  {
   "cell_type": "code",
   "execution_count": 6,
   "metadata": {
    "ExecuteTime": {
     "end_time": "2021-06-05T17:45:09.664829Z",
     "start_time": "2021-06-05T17:45:09.600672Z"
    }
   },
   "outputs": [
    {
     "name": "stdout",
     "output_type": "stream",
     "text": [
      "OrderDemoData.xml contains 138\n",
      "ManufacturingDemoData.xml contains 8\n",
      "PartyDemoData.xml contains 18\n",
      "CommonExtDemoData.xml contains 1\n",
      "MarketingDemoData.xml contains 23\n",
      "SecurityExtDemoData.xml contains 7\n",
      "AccountingDemoData.xml contains 98\n",
      "ContentDemoData.xml contains 20\n",
      "ProductDemoData.xml contains 10\n",
      "HumanresDemoData.xml contains 13\n",
      "WorkEffortDemoData.xml contains 15\n"
     ]
    },
    {
     "data": {
      "text/plain": [
       "227"
      ]
     },
     "execution_count": 6,
     "metadata": {},
     "output_type": "execute_result"
    }
   ],
   "source": [
    "all_types=set()\n",
    "for f in onlyfiles:\n",
    "    types=collect_types(f)\n",
    "    print(f\"{f} contains {len(types)}\")\n",
    "    all_types.update(types)\n",
    "\n",
    "len(all_types)"
   ]
  },
  {
   "cell_type": "code",
   "execution_count": 7,
   "metadata": {
    "ExecuteTime": {
     "end_time": "2021-06-05T17:45:09.682061Z",
     "start_time": "2021-06-05T17:45:09.671524Z"
    }
   },
   "outputs": [
    {
     "data": {
      "text/plain": [
       "['ProductStorePromoAppl',\n",
       " 'ProductPriceAction',\n",
       " 'ProductStoreRole',\n",
       " 'ProductPriceRule',\n",
       " 'Product',\n",
       " 'ProductStore',\n",
       " 'ProductConfig',\n",
       " 'FixedAssetProduct',\n",
       " 'ProductStoreKeywordOvrd',\n",
       " 'ProductSubscriptionResource',\n",
       " 'ProductAssoc',\n",
       " 'ProductPromoProduct',\n",
       " 'ProductPromoRule',\n",
       " 'ProductFeatureAppl',\n",
       " 'ProductFacility',\n",
       " 'ProductCategoryMember',\n",
       " 'TaxAuthorityRateProduct',\n",
       " 'ProductConfigProduct',\n",
       " 'ProductStoreShipmentMeth',\n",
       " 'ProductCategoryRole',\n",
       " 'ProductCostComponentCalc',\n",
       " 'SupplierProduct',\n",
       " 'ProductReview',\n",
       " 'ProductFacilityAssoc',\n",
       " 'ProductPromoAction',\n",
       " 'ProductFeature',\n",
       " 'ProductPromoCode',\n",
       " 'ProductStoreGroupType',\n",
       " 'ProductMaint',\n",
       " 'ProductPromo',\n",
       " 'ProductStoreCatalog',\n",
       " 'ProductCategory',\n",
       " 'ProductStorePaymentSetting',\n",
       " 'ProductFeatureIactn',\n",
       " 'ProductFeaturePrice',\n",
       " 'ProductCategoryLink',\n",
       " 'ProductFacilityLocation',\n",
       " 'ProductConfigItem',\n",
       " 'ProductFeatureCategory',\n",
       " 'ProductContent',\n",
       " 'ProductPromoCond',\n",
       " 'ProductPromoCategory',\n",
       " 'AgreementProductAppl',\n",
       " 'ProductStoreFacility',\n",
       " 'ProductConfigOption',\n",
       " 'ProductKeyword',\n",
       " 'ProductPrice',\n",
       " 'ProductCategoryRollup',\n",
       " 'ProductCategoryContent',\n",
       " 'ProductFeatureCategoryAppl',\n",
       " 'ProductPriceCond',\n",
       " 'ProductStoreEmailSetting']"
      ]
     },
     "execution_count": 7,
     "metadata": {},
     "output_type": "execute_result"
    }
   ],
   "source": [
    "[e for e in all_types if 'Product' in e]"
   ]
  },
  {
   "cell_type": "code",
   "execution_count": 8,
   "metadata": {
    "ExecuteTime": {
     "end_time": "2021-06-05T17:45:09.708461Z",
     "start_time": "2021-06-05T17:45:09.688421Z"
    }
   },
   "outputs": [
    {
     "data": {
      "text/plain": [
       "['ExampleSecurityGroupDemoData.xml',\n",
       " 'ExampleSecurityPermissionSeedData.xml',\n",
       " 'ExampleDemoData.json',\n",
       " 'ExampleSecurityPermissionSeedData.json',\n",
       " 'ExampleDemoData.xml',\n",
       " 'ExampleSecurityGroupDemoData.json']"
      ]
     },
     "execution_count": 8,
     "metadata": {},
     "output_type": "execute_result"
    }
   ],
   "source": [
    "seed_path=\"./assets/data_example\"\n",
    "onlyfiles = [f for f in listdir(seed_path) if isfile(join(seed_path, f))]\n",
    "onlyfiles"
   ]
  },
  {
   "cell_type": "code",
   "execution_count": 9,
   "metadata": {
    "ExecuteTime": {
     "end_time": "2021-06-05T17:45:09.744509Z",
     "start_time": "2021-06-05T17:45:09.725564Z"
    }
   },
   "outputs": [
    {
     "name": "stdout",
     "output_type": "stream",
     "text": [
      "ExampleSecurityGroupDemoData.xml contains 1\n",
      "ExampleSecurityPermissionSeedData.xml contains 2\n",
      "ExampleDemoData.xml contains 14\n"
     ]
    },
    {
     "data": {
      "text/plain": [
       "16"
      ]
     },
     "execution_count": 9,
     "metadata": {},
     "output_type": "execute_result"
    }
   ],
   "source": [
    "all_types=set([])\n",
    "for f in onlyfiles:\n",
    "    if f.endswith('.xml'):\n",
    "        types=collect_types(f)\n",
    "        print(f\"{f} contains {len(types)}\")\n",
    "        all_types.update(types)\n",
    "\n",
    "len(all_types)"
   ]
  },
  {
   "cell_type": "code",
   "execution_count": 10,
   "metadata": {
    "ExecuteTime": {
     "end_time": "2021-06-05T17:45:09.761487Z",
     "start_time": "2021-06-05T17:45:09.750136Z"
    }
   },
   "outputs": [
    {
     "data": {
      "text/plain": [
       "(12,\n",
       " ['Enumeration',\n",
       "  'StatusType',\n",
       "  'SecurityPermission',\n",
       "  'StatusItem',\n",
       "  'Example',\n",
       "  'SecurityGroupPermission',\n",
       "  'StatusValidChange',\n",
       "  'ExampleType',\n",
       "  'ExampleItem',\n",
       "  'ExampleStatus',\n",
       "  'EnumerationType',\n",
       "  'ExampleFeatureApplType'])"
      ]
     },
     "execution_count": 10,
     "metadata": {},
     "output_type": "execute_result"
    }
   ],
   "source": [
    "sets=[t for t in all_types if t not in [\n",
    "    'create','create-replace',\n",
    "    'create-update',\n",
    "    'delete']]\n",
    "len(sets), sets"
   ]
  },
  {
   "cell_type": "code",
   "execution_count": 11,
   "metadata": {
    "ExecuteTime": {
     "end_time": "2021-06-05T17:45:09.785835Z",
     "start_time": "2021-06-05T17:45:09.770433Z"
    }
   },
   "outputs": [],
   "source": [
    "import json\n",
    "fd=open('assets/data_example_ents.json', 'w')\n",
    "fd.write(json.dumps(sets, indent=2))\n",
    "fd.close()"
   ]
  },
  {
   "cell_type": "code",
   "execution_count": 12,
   "metadata": {
    "ExecuteTime": {
     "end_time": "2021-06-05T17:45:09.808555Z",
     "start_time": "2021-06-05T17:45:09.793396Z"
    }
   },
   "outputs": [],
   "source": [
    "def collect_data(f):\n",
    "    rs=[]\n",
    "    xml_path=join(seed_path, f)\n",
    "    tree = ET.parse(xml_path)\n",
    "    root = tree.getroot()\n",
    "    for c in root:\n",
    "        if c.tag not in [\n",
    "            'create','create-replace',\n",
    "            'create-update',\n",
    "            'delete']:\n",
    "            rs.append({c.tag:c.attrib})\n",
    "    return rs\n",
    "rs=collect_data(\"ExampleSecurityGroupDemoData.xml\")\n",
    "fd=open('assets/data_example/ExampleSecurityGroupDemoData.json', 'w')\n",
    "fd.write(json.dumps(rs, indent=2, ensure_ascii=False))\n",
    "fd.close()"
   ]
  },
  {
   "cell_type": "code",
   "execution_count": 13,
   "metadata": {
    "ExecuteTime": {
     "end_time": "2021-06-05T17:45:09.827019Z",
     "start_time": "2021-06-05T17:45:09.814323Z"
    }
   },
   "outputs": [
    {
     "data": {
      "text/plain": [
       "'ExampleSecurityGroupDemoData.json'"
      ]
     },
     "execution_count": 13,
     "metadata": {},
     "output_type": "execute_result"
    }
   ],
   "source": [
    "import os\n",
    "os.path.splitext(\"ExampleSecurityGroupDemoData.xml\")[0]+\".json\""
   ]
  },
  {
   "cell_type": "code",
   "execution_count": 14,
   "metadata": {
    "ExecuteTime": {
     "end_time": "2021-06-05T17:45:09.845095Z",
     "start_time": "2021-06-05T17:45:09.832900Z"
    }
   },
   "outputs": [],
   "source": [
    "for f in onlyfiles:\n",
    "    if f.endswith('.xml'):\n",
    "        rs=collect_data(f)\n",
    "        target_path=join(seed_path, os.path.splitext(f)[0]+\".json\")\n",
    "        fd=open(target_path, 'w')\n",
    "        fd.write(json.dumps(rs, indent=2, ensure_ascii=False))\n",
    "        fd.close()"
   ]
  },
  {
   "cell_type": "code",
   "execution_count": 15,
   "metadata": {
    "ExecuteTime": {
     "end_time": "2021-06-05T17:45:09.877842Z",
     "start_time": "2021-06-05T17:45:09.850244Z"
    }
   },
   "outputs": [
    {
     "data": {
      "text/plain": [
       "'entity-engine-xml'"
      ]
     },
     "execution_count": 15,
     "metadata": {},
     "output_type": "execute_result"
    }
   ],
   "source": [
    "import xml.etree.ElementTree as ET\n",
    "\n",
    "# f=onlyfiles[0]\n",
    "seed_path=\"./assets/seed\"\n",
    "f=\"AccountingSeedData.xml\"\n",
    "xml_path=join(seed_path, f)\n",
    "tree = ET.parse(xml_path)\n",
    "root = tree.getroot()\n",
    "root.tag"
   ]
  },
  {
   "cell_type": "code",
   "execution_count": 16,
   "metadata": {
    "ExecuteTime": {
     "end_time": "2021-06-05T17:45:09.920220Z",
     "start_time": "2021-06-05T17:45:09.897157Z"
    }
   },
   "outputs": [
    {
     "name": "stdout",
     "output_type": "stream",
     "text": [
      "./assets/seed/AccountingSeedData.xml\n"
     ]
    },
    {
     "data": {
      "text/plain": [
       "(47,\n",
       " {'AcctgTransEntryType',\n",
       "  'AcctgTransType',\n",
       "  'BudgetItemType',\n",
       "  'BudgetReviewResultType',\n",
       "  'BudgetType',\n",
       "  'CustomMethod',\n",
       "  'CustomMethodType',\n",
       "  'CustomScreenType',\n",
       "  'EmplPositionType',\n",
       "  'Enumeration',\n",
       "  'EnumerationType',\n",
       "  'FinAccountTransType',\n",
       "  'FinAccountType',\n",
       "  'FixedAssetIdentType',\n",
       "  'FixedAssetProductType',\n",
       "  'FixedAssetStdCostType',\n",
       "  'FixedAssetType',\n",
       "  'GlAccountCategoryType',\n",
       "  'GlAccountClass',\n",
       "  'GlAccountGroup',\n",
       "  'GlAccountGroupType',\n",
       "  'GlAccountType',\n",
       "  'GlFiscalType',\n",
       "  'GlResourceType',\n",
       "  'GlXbrlClass',\n",
       "  'GoodIdentificationType',\n",
       "  'InvoiceContentType',\n",
       "  'InvoiceItemAssocType',\n",
       "  'InvoiceItemType',\n",
       "  'InvoiceItemTypeMap',\n",
       "  'InvoiceType',\n",
       "  'PartyIdentificationType',\n",
       "  'PaymentGatewayConfigType',\n",
       "  'PaymentGroupType',\n",
       "  'PaymentMethodType',\n",
       "  'PaymentType',\n",
       "  'PeriodType',\n",
       "  'ProductAverageCostType',\n",
       "  'RateType',\n",
       "  'RoleType',\n",
       "  'SettlementTerm',\n",
       "  'StatusItem',\n",
       "  'StatusType',\n",
       "  'StatusValidChange',\n",
       "  'TaxAuthorityAssocType',\n",
       "  'TaxAuthorityRateType',\n",
       "  'WorkEffort'})"
      ]
     },
     "execution_count": 16,
     "metadata": {},
     "output_type": "execute_result"
    }
   ],
   "source": [
    "print(xml_path)\n",
    "ent_types=set([c.tag for c in root])\n",
    "len(ent_types), ent_types"
   ]
  },
  {
   "cell_type": "code",
   "execution_count": 17,
   "metadata": {
    "ExecuteTime": {
     "end_time": "2021-06-05T17:45:13.376532Z",
     "start_time": "2021-06-05T17:45:09.939897Z"
    }
   },
   "outputs": [
    {
     "name": "stdout",
     "output_type": "stream",
     "text": [
      "2021-06-06 01:45:12,165 - sagas.ofbiz.connector - INFO - connect to py4j-gateway localhost 22333\n"
     ]
    },
    {
     "data": {
      "text/plain": [
       "['createPerson', 'createUpdatePerson', 'updatePerson']"
      ]
     },
     "execution_count": 17,
     "metadata": {},
     "output_type": "execute_result"
    }
   ],
   "source": [
    "from service_meta import ServiceMeta\n",
    "srvs=ServiceMeta()\n",
    "srvs.entity_services('Person')"
   ]
  },
  {
   "cell_type": "code",
   "execution_count": 18,
   "metadata": {
    "ExecuteTime": {
     "end_time": "2021-06-05T17:45:14.706180Z",
     "start_time": "2021-06-05T17:45:13.379628Z"
    }
   },
   "outputs": [
    {
     "data": {
      "text/plain": [
       "['createExample', 'deleteExample', 'updateExample']"
      ]
     },
     "execution_count": 18,
     "metadata": {},
     "output_type": "execute_result"
    }
   ],
   "source": [
    "srvs.entity_services('Example')"
   ]
  }
 ],
 "metadata": {
  "kernelspec": {
   "display_name": "Python 3",
   "language": "python",
   "name": "python3"
  },
  "language_info": {
   "codemirror_mode": {
    "name": "ipython",
    "version": 3
   },
   "file_extension": ".py",
   "mimetype": "text/x-python",
   "name": "python",
   "nbconvert_exporter": "python",
   "pygments_lexer": "ipython3",
   "version": "3.7.7"
  },
  "varInspector": {
   "cols": {
    "lenName": 16,
    "lenType": 16,
    "lenVar": 40
   },
   "kernels_config": {
    "python": {
     "delete_cmd_postfix": "",
     "delete_cmd_prefix": "del ",
     "library": "var_list.py",
     "varRefreshCmd": "print(var_dic_list())"
    },
    "r": {
     "delete_cmd_postfix": ") ",
     "delete_cmd_prefix": "rm(",
     "library": "var_list.r",
     "varRefreshCmd": "cat(var_dic_list()) "
    }
   },
   "types_to_exclude": [
    "module",
    "function",
    "builtin_function_or_method",
    "instance",
    "_Feature"
   ],
   "window_display": false
  }
 },
 "nbformat": 4,
 "nbformat_minor": 4
}
