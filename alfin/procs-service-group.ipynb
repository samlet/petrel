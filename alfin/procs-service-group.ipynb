{
 "cells": [
  {
   "cell_type": "code",
   "execution_count": 4,
   "metadata": {
    "ExecuteTime": {
     "end_time": "2021-11-10T15:09:01.232613Z",
     "start_time": "2021-11-10T15:09:01.160378Z"
    }
   },
   "outputs": [
    {
     "data": {
      "text/plain": [
       "26"
      ]
     },
     "execution_count": 4,
     "metadata": {},
     "output_type": "execute_result"
    }
   ],
   "source": [
    "from sagas.modules.deles import *\n",
    "services=oc.hubs.getComponent('services')\n",
    "groups=services.getServiceGroups()\n",
    "len(groups)"
   ]
  },
  {
   "cell_type": "code",
   "execution_count": 2,
   "metadata": {
    "ExecuteTime": {
     "end_time": "2021-11-10T10:04:07.547101Z",
     "start_time": "2021-11-10T10:04:07.537176Z"
    }
   },
   "outputs": [
    {
     "data": {
      "text/plain": [
       "'com.bluecc.generic.ServiceModels$ServiceGroup'"
      ]
     },
     "execution_count": 2,
     "metadata": {},
     "output_type": "execute_result"
    }
   ],
   "source": [
    "groups[0].getClass().getName()"
   ]
  },
  {
   "cell_type": "code",
   "execution_count": 8,
   "metadata": {
    "ExecuteTime": {
     "end_time": "2021-11-10T09:58:15.591671Z",
     "start_time": "2021-11-10T09:58:15.580586Z"
    }
   },
   "outputs": [
    {
     "data": {
      "text/plain": [
       "'group'"
      ]
     },
     "execution_count": 8,
     "metadata": {},
     "output_type": "execute_result"
    }
   ],
   "source": [
    "groups[0].getModel().getEngineName()"
   ]
  },
  {
   "cell_type": "code",
   "execution_count": 3,
   "metadata": {
    "ExecuteTime": {
     "end_time": "2021-11-10T10:04:13.807807Z",
     "start_time": "2021-11-10T10:04:13.791659Z"
    }
   },
   "outputs": [
    {
     "data": {
      "text/plain": [
       "[('cancelRemainingPurchaseOrderItems', 'sync'),\n",
       " ('generateReqsFromCancelledPOItems', 'sync'),\n",
       " ('checkOrderItemStatus', 'sync')]"
      ]
     },
     "execution_count": 3,
     "metadata": {},
     "output_type": "execute_result"
    }
   ],
   "source": [
    "groupModel=groups[0].getGroup()\n",
    "[(s.getName(), s.getMode()) for s in groupModel.getServices()]"
   ]
  },
  {
   "cell_type": "code",
   "execution_count": 1,
   "metadata": {
    "ExecuteTime": {
     "end_time": "2021-11-10T09:15:43.021396Z",
     "start_time": "2021-11-10T09:15:41.436952Z"
    }
   },
   "outputs": [
    {
     "name": "stdout",
     "output_type": "stream",
     "text": [
      "2021-11-10 17:15:42,865 - sagas.ofbiz.connector - INFO - connect to py4j-gateway localhost 22333\n"
     ]
    },
    {
     "data": {
      "text/plain": [
       "Decimal('36.43')"
      ]
     },
     "execution_count": 1,
     "metadata": {},
     "output_type": "execute_result"
    }
   ],
   "source": [
    "from sagas.modules.deles import *\n",
    "invoices.getInvoiceTotal(\"demo10001\")"
   ]
  },
  {
   "cell_type": "code",
   "execution_count": 2,
   "metadata": {
    "ExecuteTime": {
     "end_time": "2021-11-10T09:15:43.059263Z",
     "start_time": "2021-11-10T09:15:43.028507Z"
    }
   },
   "outputs": [
    {
     "data": {
      "text/plain": [
       "'group'"
      ]
     },
     "execution_count": 2,
     "metadata": {},
     "output_type": "execute_result"
    }
   ],
   "source": [
    "MetaService('createCreditCardAndAddress').model.getEngineName()"
   ]
  },
  {
   "cell_type": "code",
   "execution_count": 3,
   "metadata": {
    "ExecuteTime": {
     "end_time": "2021-11-10T09:15:43.113613Z",
     "start_time": "2021-11-10T09:15:43.084695Z"
    }
   },
   "outputs": [
    {
     "data": {
      "text/plain": [
       "True"
      ]
     },
     "execution_count": 3,
     "metadata": {},
     "output_type": "execute_result"
    }
   ],
   "source": [
    "modelService=MetaService('createCreditCardAndAddress').model\n",
    "groupModel = modelService.getInternalGroup()\n",
    "groupModel is None"
   ]
  },
  {
   "cell_type": "code",
   "execution_count": 4,
   "metadata": {
    "ExecuteTime": {
     "end_time": "2021-11-10T09:15:43.138111Z",
     "start_time": "2021-11-10T09:15:43.126778Z"
    }
   },
   "outputs": [],
   "source": [
    "oc.import_package('org.apache.ofbiz.service.group.ServiceGroupEngine')"
   ]
  },
  {
   "cell_type": "code",
   "execution_count": 5,
   "metadata": {
    "ExecuteTime": {
     "end_time": "2021-11-10T09:15:43.169078Z",
     "start_time": "2021-11-10T09:15:43.145219Z"
    }
   },
   "outputs": [],
   "source": [
    "oc.import_package('org.apache.ofbiz.service.ServiceDispatcher')"
   ]
  },
  {
   "cell_type": "code",
   "execution_count": 6,
   "metadata": {
    "ExecuteTime": {
     "end_time": "2021-11-10T09:15:43.207767Z",
     "start_time": "2021-11-10T09:15:43.195404Z"
    }
   },
   "outputs": [],
   "source": [
    "srv_disp=oc.j.ServiceDispatcher.getInstance(oc.delegator)"
   ]
  },
  {
   "cell_type": "code",
   "execution_count": 7,
   "metadata": {
    "ExecuteTime": {
     "end_time": "2021-11-10T09:15:43.226878Z",
     "start_time": "2021-11-10T09:15:43.212645Z"
    }
   },
   "outputs": [],
   "source": [
    "group_eng=oc.j.ServiceGroupEngine(srv_disp)"
   ]
  },
  {
   "cell_type": "code",
   "execution_count": 8,
   "metadata": {
    "ExecuteTime": {
     "end_time": "2021-11-10T09:15:43.252792Z",
     "start_time": "2021-11-10T09:15:43.236541Z"
    }
   },
   "outputs": [
    {
     "data": {
      "text/plain": [
       "'org.apache.ofbiz.service.group.ServiceGroupEngine'"
      ]
     },
     "execution_count": 8,
     "metadata": {},
     "output_type": "execute_result"
    }
   ],
   "source": [
    "group_eng.getClass().getName()"
   ]
  },
  {
   "cell_type": "code",
   "execution_count": 9,
   "metadata": {
    "ExecuteTime": {
     "end_time": "2021-11-10T09:15:47.066474Z",
     "start_time": "2021-11-10T09:15:47.056172Z"
    }
   },
   "outputs": [
    {
     "data": {
      "text/plain": [
       "'createCreditCardAndAddress'"
      ]
     },
     "execution_count": 9,
     "metadata": {},
     "output_type": "execute_result"
    }
   ],
   "source": [
    "group_eng.getLocation(modelService)"
   ]
  },
  {
   "cell_type": "code",
   "execution_count": 11,
   "metadata": {
    "ExecuteTime": {
     "end_time": "2021-11-10T09:17:14.422460Z",
     "start_time": "2021-11-10T09:17:14.415166Z"
    }
   },
   "outputs": [],
   "source": [
    "oc.import_package('org.apache.ofbiz.service.group.ServiceGroupReader')"
   ]
  },
  {
   "cell_type": "code",
   "execution_count": 12,
   "metadata": {
    "ExecuteTime": {
     "end_time": "2021-11-10T09:17:19.793275Z",
     "start_time": "2021-11-10T09:17:19.785979Z"
    }
   },
   "outputs": [],
   "source": [
    "groupModel = oc.j.ServiceGroupReader.getGroupModel(group_eng.getLocation(modelService))"
   ]
  },
  {
   "cell_type": "code",
   "execution_count": 14,
   "metadata": {
    "ExecuteTime": {
     "end_time": "2021-11-10T09:17:38.175440Z",
     "start_time": "2021-11-10T09:17:38.168096Z"
    }
   },
   "outputs": [
    {
     "data": {
      "text/plain": [
       "'createCreditCardAndAddress'"
      ]
     },
     "execution_count": 14,
     "metadata": {},
     "output_type": "execute_result"
    }
   ],
   "source": [
    "groupModel.getGroupName()"
   ]
  },
  {
   "cell_type": "code",
   "execution_count": 18,
   "metadata": {
    "ExecuteTime": {
     "end_time": "2021-11-10T09:20:37.475110Z",
     "start_time": "2021-11-10T09:20:37.461310Z"
    }
   },
   "outputs": [
    {
     "data": {
      "text/plain": [
       "[('createPostalAddress', 'sync'),\n",
       " ('createCreditCard', 'sync'),\n",
       " ('createPartyContactMech', 'sync')]"
      ]
     },
     "execution_count": 18,
     "metadata": {},
     "output_type": "execute_result"
    }
   ],
   "source": [
    "[(s.getName(), s.getMode()) for s in groupModel.getServices()]"
   ]
  },
  {
   "cell_type": "code",
   "execution_count": 5,
   "metadata": {
    "ExecuteTime": {
     "end_time": "2021-11-10T08:58:18.881493Z",
     "start_time": "2021-11-10T08:58:18.869612Z"
    }
   },
   "outputs": [
    {
     "data": {
      "text/plain": [
       "'org.apache.ofbiz.service.ModelService'"
      ]
     },
     "execution_count": 5,
     "metadata": {},
     "output_type": "execute_result"
    }
   ],
   "source": [
    "MetaService('createCreditCardAndAddress').model.getClass().getName()"
   ]
  },
  {
   "cell_type": "code",
   "execution_count": 2,
   "metadata": {
    "ExecuteTime": {
     "end_time": "2021-05-31T07:08:42.684532Z",
     "start_time": "2021-05-31T07:08:42.664616Z"
    }
   },
   "outputs": [
    {
     "data": {
      "text/plain": [
       "JavaObject id=o10035"
      ]
     },
     "execution_count": 2,
     "metadata": {},
     "output_type": "execute_result"
    }
   ],
   "source": [
    "oc.dispatcher"
   ]
  },
  {
   "cell_type": "code",
   "execution_count": 2,
   "metadata": {
    "ExecuteTime": {
     "end_time": "2021-11-10T03:33:43.697904Z",
     "start_time": "2021-11-10T03:33:43.491217Z"
    }
   },
   "outputs": [
    {
     "data": {
      "text/html": [
       "<div>\n",
       "<style scoped>\n",
       "    .dataframe tbody tr th:only-of-type {\n",
       "        vertical-align: middle;\n",
       "    }\n",
       "\n",
       "    .dataframe tbody tr th {\n",
       "        vertical-align: top;\n",
       "    }\n",
       "\n",
       "    .dataframe thead th {\n",
       "        text-align: right;\n",
       "    }\n",
       "</style>\n",
       "<table border=\"1\" class=\"dataframe\">\n",
       "  <thead>\n",
       "    <tr style=\"text-align: right;\">\n",
       "      <th></th>\n",
       "      <th>name</th>\n",
       "      <th>type</th>\n",
       "      <th>required</th>\n",
       "      <th>override optional</th>\n",
       "      <th>entity name</th>\n",
       "      <th>mode</th>\n",
       "      <th>internal</th>\n",
       "    </tr>\n",
       "  </thead>\n",
       "  <tbody>\n",
       "    <tr>\n",
       "      <th>0</th>\n",
       "      <td>partyId</td>\n",
       "      <td>String</td>\n",
       "      <td></td>\n",
       "      <td>*</td>\n",
       "      <td>Person</td>\n",
       "      <td>IN</td>\n",
       "      <td></td>\n",
       "    </tr>\n",
       "    <tr>\n",
       "      <th>1</th>\n",
       "      <td>partyId</td>\n",
       "      <td>String</td>\n",
       "      <td>*</td>\n",
       "      <td>*</td>\n",
       "      <td>Person</td>\n",
       "      <td>OUT</td>\n",
       "      <td></td>\n",
       "    </tr>\n",
       "    <tr>\n",
       "      <th>2</th>\n",
       "      <td>salutation</td>\n",
       "      <td>String</td>\n",
       "      <td></td>\n",
       "      <td>*</td>\n",
       "      <td>Person</td>\n",
       "      <td>IN</td>\n",
       "      <td></td>\n",
       "    </tr>\n",
       "    <tr>\n",
       "      <th>3</th>\n",
       "      <td>firstName</td>\n",
       "      <td>String</td>\n",
       "      <td></td>\n",
       "      <td>*</td>\n",
       "      <td>Person</td>\n",
       "      <td>IN</td>\n",
       "      <td></td>\n",
       "    </tr>\n",
       "    <tr>\n",
       "      <th>4</th>\n",
       "      <td>middleName</td>\n",
       "      <td>String</td>\n",
       "      <td></td>\n",
       "      <td>*</td>\n",
       "      <td>Person</td>\n",
       "      <td>IN</td>\n",
       "      <td></td>\n",
       "    </tr>\n",
       "    <tr>\n",
       "      <th>5</th>\n",
       "      <td>lastName</td>\n",
       "      <td>String</td>\n",
       "      <td></td>\n",
       "      <td>*</td>\n",
       "      <td>Person</td>\n",
       "      <td>IN</td>\n",
       "      <td></td>\n",
       "    </tr>\n",
       "    <tr>\n",
       "      <th>6</th>\n",
       "      <td>personalTitle</td>\n",
       "      <td>String</td>\n",
       "      <td></td>\n",
       "      <td>*</td>\n",
       "      <td>Person</td>\n",
       "      <td>IN</td>\n",
       "      <td></td>\n",
       "    </tr>\n",
       "    <tr>\n",
       "      <th>7</th>\n",
       "      <td>suffix</td>\n",
       "      <td>String</td>\n",
       "      <td></td>\n",
       "      <td>*</td>\n",
       "      <td>Person</td>\n",
       "      <td>IN</td>\n",
       "      <td></td>\n",
       "    </tr>\n",
       "    <tr>\n",
       "      <th>8</th>\n",
       "      <td>nickname</td>\n",
       "      <td>String</td>\n",
       "      <td></td>\n",
       "      <td>*</td>\n",
       "      <td>Person</td>\n",
       "      <td>IN</td>\n",
       "      <td></td>\n",
       "    </tr>\n",
       "    <tr>\n",
       "      <th>9</th>\n",
       "      <td>firstNameLocal</td>\n",
       "      <td>String</td>\n",
       "      <td></td>\n",
       "      <td>*</td>\n",
       "      <td>Person</td>\n",
       "      <td>IN</td>\n",
       "      <td></td>\n",
       "    </tr>\n",
       "    <tr>\n",
       "      <th>10</th>\n",
       "      <td>middleNameLocal</td>\n",
       "      <td>String</td>\n",
       "      <td></td>\n",
       "      <td>*</td>\n",
       "      <td>Person</td>\n",
       "      <td>IN</td>\n",
       "      <td></td>\n",
       "    </tr>\n",
       "    <tr>\n",
       "      <th>11</th>\n",
       "      <td>lastNameLocal</td>\n",
       "      <td>String</td>\n",
       "      <td></td>\n",
       "      <td>*</td>\n",
       "      <td>Person</td>\n",
       "      <td>IN</td>\n",
       "      <td></td>\n",
       "    </tr>\n",
       "    <tr>\n",
       "      <th>12</th>\n",
       "      <td>otherLocal</td>\n",
       "      <td>String</td>\n",
       "      <td></td>\n",
       "      <td>*</td>\n",
       "      <td>Person</td>\n",
       "      <td>IN</td>\n",
       "      <td></td>\n",
       "    </tr>\n",
       "    <tr>\n",
       "      <th>13</th>\n",
       "      <td>memberId</td>\n",
       "      <td>String</td>\n",
       "      <td></td>\n",
       "      <td>*</td>\n",
       "      <td>Person</td>\n",
       "      <td>IN</td>\n",
       "      <td></td>\n",
       "    </tr>\n",
       "    <tr>\n",
       "      <th>14</th>\n",
       "      <td>gender</td>\n",
       "      <td>String</td>\n",
       "      <td></td>\n",
       "      <td>*</td>\n",
       "      <td>Person</td>\n",
       "      <td>IN</td>\n",
       "      <td></td>\n",
       "    </tr>\n",
       "    <tr>\n",
       "      <th>15</th>\n",
       "      <td>birthDate</td>\n",
       "      <td>java.sql.Date</td>\n",
       "      <td></td>\n",
       "      <td>*</td>\n",
       "      <td>Person</td>\n",
       "      <td>IN</td>\n",
       "      <td></td>\n",
       "    </tr>\n",
       "    <tr>\n",
       "      <th>16</th>\n",
       "      <td>deceasedDate</td>\n",
       "      <td>java.sql.Date</td>\n",
       "      <td></td>\n",
       "      <td>*</td>\n",
       "      <td>Person</td>\n",
       "      <td>IN</td>\n",
       "      <td></td>\n",
       "    </tr>\n",
       "    <tr>\n",
       "      <th>17</th>\n",
       "      <td>height</td>\n",
       "      <td>Double</td>\n",
       "      <td></td>\n",
       "      <td>*</td>\n",
       "      <td>Person</td>\n",
       "      <td>IN</td>\n",
       "      <td></td>\n",
       "    </tr>\n",
       "    <tr>\n",
       "      <th>18</th>\n",
       "      <td>weight</td>\n",
       "      <td>Double</td>\n",
       "      <td></td>\n",
       "      <td>*</td>\n",
       "      <td>Person</td>\n",
       "      <td>IN</td>\n",
       "      <td></td>\n",
       "    </tr>\n",
       "    <tr>\n",
       "      <th>19</th>\n",
       "      <td>mothersMaidenName</td>\n",
       "      <td>String</td>\n",
       "      <td></td>\n",
       "      <td>*</td>\n",
       "      <td>Person</td>\n",
       "      <td>IN</td>\n",
       "      <td></td>\n",
       "    </tr>\n",
       "    <tr>\n",
       "      <th>20</th>\n",
       "      <td>oldMaritalStatus</td>\n",
       "      <td>String</td>\n",
       "      <td></td>\n",
       "      <td>*</td>\n",
       "      <td>Person</td>\n",
       "      <td>IN</td>\n",
       "      <td></td>\n",
       "    </tr>\n",
       "    <tr>\n",
       "      <th>21</th>\n",
       "      <td>maritalStatusEnumId</td>\n",
       "      <td>String</td>\n",
       "      <td></td>\n",
       "      <td>*</td>\n",
       "      <td>Person</td>\n",
       "      <td>IN</td>\n",
       "      <td></td>\n",
       "    </tr>\n",
       "    <tr>\n",
       "      <th>22</th>\n",
       "      <td>socialSecurityNumber</td>\n",
       "      <td>String</td>\n",
       "      <td></td>\n",
       "      <td>*</td>\n",
       "      <td>Person</td>\n",
       "      <td>IN</td>\n",
       "      <td></td>\n",
       "    </tr>\n",
       "    <tr>\n",
       "      <th>23</th>\n",
       "      <td>passportNumber</td>\n",
       "      <td>String</td>\n",
       "      <td></td>\n",
       "      <td>*</td>\n",
       "      <td>Person</td>\n",
       "      <td>IN</td>\n",
       "      <td></td>\n",
       "    </tr>\n",
       "    <tr>\n",
       "      <th>24</th>\n",
       "      <td>passportExpireDate</td>\n",
       "      <td>java.sql.Date</td>\n",
       "      <td></td>\n",
       "      <td>*</td>\n",
       "      <td>Person</td>\n",
       "      <td>IN</td>\n",
       "      <td></td>\n",
       "    </tr>\n",
       "    <tr>\n",
       "      <th>25</th>\n",
       "      <td>totalYearsWorkExperience</td>\n",
       "      <td>Double</td>\n",
       "      <td></td>\n",
       "      <td>*</td>\n",
       "      <td>Person</td>\n",
       "      <td>IN</td>\n",
       "      <td></td>\n",
       "    </tr>\n",
       "    <tr>\n",
       "      <th>26</th>\n",
       "      <td>comments</td>\n",
       "      <td>String</td>\n",
       "      <td></td>\n",
       "      <td>*</td>\n",
       "      <td>Person</td>\n",
       "      <td>IN</td>\n",
       "      <td></td>\n",
       "    </tr>\n",
       "    <tr>\n",
       "      <th>27</th>\n",
       "      <td>employmentStatusEnumId</td>\n",
       "      <td>String</td>\n",
       "      <td></td>\n",
       "      <td>*</td>\n",
       "      <td>Person</td>\n",
       "      <td>IN</td>\n",
       "      <td></td>\n",
       "    </tr>\n",
       "    <tr>\n",
       "      <th>28</th>\n",
       "      <td>residenceStatusEnumId</td>\n",
       "      <td>String</td>\n",
       "      <td></td>\n",
       "      <td>*</td>\n",
       "      <td>Person</td>\n",
       "      <td>IN</td>\n",
       "      <td></td>\n",
       "    </tr>\n",
       "    <tr>\n",
       "      <th>29</th>\n",
       "      <td>occupation</td>\n",
       "      <td>String</td>\n",
       "      <td></td>\n",
       "      <td>*</td>\n",
       "      <td>Person</td>\n",
       "      <td>IN</td>\n",
       "      <td></td>\n",
       "    </tr>\n",
       "    <tr>\n",
       "      <th>30</th>\n",
       "      <td>yearsWithEmployer</td>\n",
       "      <td>Long</td>\n",
       "      <td></td>\n",
       "      <td>*</td>\n",
       "      <td>Person</td>\n",
       "      <td>IN</td>\n",
       "      <td></td>\n",
       "    </tr>\n",
       "    <tr>\n",
       "      <th>31</th>\n",
       "      <td>monthsWithEmployer</td>\n",
       "      <td>Long</td>\n",
       "      <td></td>\n",
       "      <td>*</td>\n",
       "      <td>Person</td>\n",
       "      <td>IN</td>\n",
       "      <td></td>\n",
       "    </tr>\n",
       "    <tr>\n",
       "      <th>32</th>\n",
       "      <td>existingCustomer</td>\n",
       "      <td>String</td>\n",
       "      <td></td>\n",
       "      <td>*</td>\n",
       "      <td>Person</td>\n",
       "      <td>IN</td>\n",
       "      <td></td>\n",
       "    </tr>\n",
       "    <tr>\n",
       "      <th>33</th>\n",
       "      <td>cardId</td>\n",
       "      <td>String</td>\n",
       "      <td></td>\n",
       "      <td>*</td>\n",
       "      <td>Person</td>\n",
       "      <td>IN</td>\n",
       "      <td></td>\n",
       "    </tr>\n",
       "    <tr>\n",
       "      <th>34</th>\n",
       "      <td>preferredCurrencyUomId</td>\n",
       "      <td>String</td>\n",
       "      <td></td>\n",
       "      <td>*</td>\n",
       "      <td>Person</td>\n",
       "      <td>IN</td>\n",
       "      <td></td>\n",
       "    </tr>\n",
       "    <tr>\n",
       "      <th>35</th>\n",
       "      <td>description</td>\n",
       "      <td>String</td>\n",
       "      <td></td>\n",
       "      <td>*</td>\n",
       "      <td>Person</td>\n",
       "      <td>IN</td>\n",
       "      <td></td>\n",
       "    </tr>\n",
       "    <tr>\n",
       "      <th>36</th>\n",
       "      <td>externalId</td>\n",
       "      <td>String</td>\n",
       "      <td></td>\n",
       "      <td>*</td>\n",
       "      <td>Person</td>\n",
       "      <td>IN</td>\n",
       "      <td></td>\n",
       "    </tr>\n",
       "    <tr>\n",
       "      <th>37</th>\n",
       "      <td>statusId</td>\n",
       "      <td>String</td>\n",
       "      <td></td>\n",
       "      <td>*</td>\n",
       "      <td>Person</td>\n",
       "      <td>IN</td>\n",
       "      <td></td>\n",
       "    </tr>\n",
       "    <tr>\n",
       "      <th>38</th>\n",
       "      <td>responseMessage</td>\n",
       "      <td>String</td>\n",
       "      <td></td>\n",
       "      <td>*</td>\n",
       "      <td>None</td>\n",
       "      <td>OUT</td>\n",
       "      <td>*</td>\n",
       "    </tr>\n",
       "    <tr>\n",
       "      <th>39</th>\n",
       "      <td>errorMessage</td>\n",
       "      <td>String</td>\n",
       "      <td></td>\n",
       "      <td>*</td>\n",
       "      <td>None</td>\n",
       "      <td>OUT</td>\n",
       "      <td>*</td>\n",
       "    </tr>\n",
       "    <tr>\n",
       "      <th>40</th>\n",
       "      <td>errorMessageList</td>\n",
       "      <td>java.util.List</td>\n",
       "      <td></td>\n",
       "      <td>*</td>\n",
       "      <td>None</td>\n",
       "      <td>OUT</td>\n",
       "      <td>*</td>\n",
       "    </tr>\n",
       "    <tr>\n",
       "      <th>41</th>\n",
       "      <td>successMessage</td>\n",
       "      <td>String</td>\n",
       "      <td></td>\n",
       "      <td>*</td>\n",
       "      <td>None</td>\n",
       "      <td>OUT</td>\n",
       "      <td>*</td>\n",
       "    </tr>\n",
       "    <tr>\n",
       "      <th>42</th>\n",
       "      <td>successMessageList</td>\n",
       "      <td>java.util.List</td>\n",
       "      <td></td>\n",
       "      <td>*</td>\n",
       "      <td>None</td>\n",
       "      <td>OUT</td>\n",
       "      <td>*</td>\n",
       "    </tr>\n",
       "    <tr>\n",
       "      <th>43</th>\n",
       "      <td>userLogin</td>\n",
       "      <td>org.apache.ofbiz.entity.GenericValue</td>\n",
       "      <td></td>\n",
       "      <td>*</td>\n",
       "      <td>None</td>\n",
       "      <td>INOUT</td>\n",
       "      <td>*</td>\n",
       "    </tr>\n",
       "    <tr>\n",
       "      <th>44</th>\n",
       "      <td>login.username</td>\n",
       "      <td>String</td>\n",
       "      <td></td>\n",
       "      <td>*</td>\n",
       "      <td>None</td>\n",
       "      <td>IN</td>\n",
       "      <td>*</td>\n",
       "    </tr>\n",
       "    <tr>\n",
       "      <th>45</th>\n",
       "      <td>login.password</td>\n",
       "      <td>String</td>\n",
       "      <td></td>\n",
       "      <td>*</td>\n",
       "      <td>None</td>\n",
       "      <td>IN</td>\n",
       "      <td>*</td>\n",
       "    </tr>\n",
       "    <tr>\n",
       "      <th>46</th>\n",
       "      <td>locale</td>\n",
       "      <td>java.util.Locale</td>\n",
       "      <td></td>\n",
       "      <td>*</td>\n",
       "      <td>None</td>\n",
       "      <td>INOUT</td>\n",
       "      <td>*</td>\n",
       "    </tr>\n",
       "    <tr>\n",
       "      <th>47</th>\n",
       "      <td>timeZone</td>\n",
       "      <td>java.util.TimeZone</td>\n",
       "      <td></td>\n",
       "      <td>*</td>\n",
       "      <td>None</td>\n",
       "      <td>INOUT</td>\n",
       "      <td>*</td>\n",
       "    </tr>\n",
       "    <tr>\n",
       "      <th>48</th>\n",
       "      <td>visualTheme</td>\n",
       "      <td>org.apache.ofbiz.widget.renderer.VisualTheme</td>\n",
       "      <td></td>\n",
       "      <td>*</td>\n",
       "      <td>None</td>\n",
       "      <td>INOUT</td>\n",
       "      <td>*</td>\n",
       "    </tr>\n",
       "  </tbody>\n",
       "</table>\n",
       "</div>"
      ],
      "text/plain": [
       "                        name                                          type  \\\n",
       "0                    partyId                                        String   \n",
       "1                    partyId                                        String   \n",
       "2                 salutation                                        String   \n",
       "3                  firstName                                        String   \n",
       "4                 middleName                                        String   \n",
       "5                   lastName                                        String   \n",
       "6              personalTitle                                        String   \n",
       "7                     suffix                                        String   \n",
       "8                   nickname                                        String   \n",
       "9             firstNameLocal                                        String   \n",
       "10           middleNameLocal                                        String   \n",
       "11             lastNameLocal                                        String   \n",
       "12                otherLocal                                        String   \n",
       "13                  memberId                                        String   \n",
       "14                    gender                                        String   \n",
       "15                 birthDate                                 java.sql.Date   \n",
       "16              deceasedDate                                 java.sql.Date   \n",
       "17                    height                                        Double   \n",
       "18                    weight                                        Double   \n",
       "19         mothersMaidenName                                        String   \n",
       "20          oldMaritalStatus                                        String   \n",
       "21       maritalStatusEnumId                                        String   \n",
       "22      socialSecurityNumber                                        String   \n",
       "23            passportNumber                                        String   \n",
       "24        passportExpireDate                                 java.sql.Date   \n",
       "25  totalYearsWorkExperience                                        Double   \n",
       "26                  comments                                        String   \n",
       "27    employmentStatusEnumId                                        String   \n",
       "28     residenceStatusEnumId                                        String   \n",
       "29                occupation                                        String   \n",
       "30         yearsWithEmployer                                          Long   \n",
       "31        monthsWithEmployer                                          Long   \n",
       "32          existingCustomer                                        String   \n",
       "33                    cardId                                        String   \n",
       "34    preferredCurrencyUomId                                        String   \n",
       "35               description                                        String   \n",
       "36                externalId                                        String   \n",
       "37                  statusId                                        String   \n",
       "38           responseMessage                                        String   \n",
       "39              errorMessage                                        String   \n",
       "40          errorMessageList                                java.util.List   \n",
       "41            successMessage                                        String   \n",
       "42        successMessageList                                java.util.List   \n",
       "43                 userLogin          org.apache.ofbiz.entity.GenericValue   \n",
       "44            login.username                                        String   \n",
       "45            login.password                                        String   \n",
       "46                    locale                              java.util.Locale   \n",
       "47                  timeZone                            java.util.TimeZone   \n",
       "48               visualTheme  org.apache.ofbiz.widget.renderer.VisualTheme   \n",
       "\n",
       "   required override optional entity name   mode internal  \n",
       "0                           *      Person     IN           \n",
       "1         *                 *      Person    OUT           \n",
       "2                           *      Person     IN           \n",
       "3                           *      Person     IN           \n",
       "4                           *      Person     IN           \n",
       "5                           *      Person     IN           \n",
       "6                           *      Person     IN           \n",
       "7                           *      Person     IN           \n",
       "8                           *      Person     IN           \n",
       "9                           *      Person     IN           \n",
       "10                          *      Person     IN           \n",
       "11                          *      Person     IN           \n",
       "12                          *      Person     IN           \n",
       "13                          *      Person     IN           \n",
       "14                          *      Person     IN           \n",
       "15                          *      Person     IN           \n",
       "16                          *      Person     IN           \n",
       "17                          *      Person     IN           \n",
       "18                          *      Person     IN           \n",
       "19                          *      Person     IN           \n",
       "20                          *      Person     IN           \n",
       "21                          *      Person     IN           \n",
       "22                          *      Person     IN           \n",
       "23                          *      Person     IN           \n",
       "24                          *      Person     IN           \n",
       "25                          *      Person     IN           \n",
       "26                          *      Person     IN           \n",
       "27                          *      Person     IN           \n",
       "28                          *      Person     IN           \n",
       "29                          *      Person     IN           \n",
       "30                          *      Person     IN           \n",
       "31                          *      Person     IN           \n",
       "32                          *      Person     IN           \n",
       "33                          *      Person     IN           \n",
       "34                          *      Person     IN           \n",
       "35                          *      Person     IN           \n",
       "36                          *      Person     IN           \n",
       "37                          *      Person     IN           \n",
       "38                          *        None    OUT        *  \n",
       "39                          *        None    OUT        *  \n",
       "40                          *        None    OUT        *  \n",
       "41                          *        None    OUT        *  \n",
       "42                          *        None    OUT        *  \n",
       "43                          *        None  INOUT        *  \n",
       "44                          *        None     IN        *  \n",
       "45                          *        None     IN        *  \n",
       "46                          *        None  INOUT        *  \n",
       "47                          *        None  INOUT        *  \n",
       "48                          *        None  INOUT        *  "
      ]
     },
     "execution_count": 2,
     "metadata": {},
     "output_type": "execute_result"
    }
   ],
   "source": [
    "import pandas as pd\n",
    "\n",
    "name='createPerson'\n",
    "model=MetaService(name).model\n",
    "default_ent=model.getDefaultEntityName()\n",
    "params=model.getModelParamList()\n",
    "model_desc=get_params(params)\n",
    "df = pd.DataFrame(model_desc)\n",
    "\n",
    "df"
   ]
  },
  {
   "cell_type": "code",
   "execution_count": 12,
   "metadata": {
    "ExecuteTime": {
     "end_time": "2021-05-31T07:41:08.224944Z",
     "start_time": "2021-05-31T07:41:08.087127Z"
    }
   },
   "outputs": [
    {
     "data": {
      "text/plain": [
       "{'name': 'createPerson',\n",
       " 'paramsInput': [{'name': 'partyId',\n",
       "   'type': 'String',\n",
       "   'required': True,\n",
       "   'overrideOptional': False,\n",
       "   'entity': 'Person',\n",
       "   'mode': 'IN',\n",
       "   'internal': False},\n",
       "  {'name': 'salutation',\n",
       "   'type': 'String',\n",
       "   'required': True,\n",
       "   'overrideOptional': False,\n",
       "   'entity': 'Person',\n",
       "   'mode': 'IN',\n",
       "   'internal': False},\n",
       "  {'name': 'firstName',\n",
       "   'type': 'String',\n",
       "   'required': True,\n",
       "   'overrideOptional': False,\n",
       "   'entity': 'Person',\n",
       "   'mode': 'IN',\n",
       "   'internal': False},\n",
       "  {'name': 'middleName',\n",
       "   'type': 'String',\n",
       "   'required': True,\n",
       "   'overrideOptional': False,\n",
       "   'entity': 'Person',\n",
       "   'mode': 'IN',\n",
       "   'internal': False},\n",
       "  {'name': 'lastName',\n",
       "   'type': 'String',\n",
       "   'required': True,\n",
       "   'overrideOptional': False,\n",
       "   'entity': 'Person',\n",
       "   'mode': 'IN',\n",
       "   'internal': False},\n",
       "  {'name': 'personalTitle',\n",
       "   'type': 'String',\n",
       "   'required': True,\n",
       "   'overrideOptional': False,\n",
       "   'entity': 'Person',\n",
       "   'mode': 'IN',\n",
       "   'internal': False},\n",
       "  {'name': 'suffix',\n",
       "   'type': 'String',\n",
       "   'required': True,\n",
       "   'overrideOptional': False,\n",
       "   'entity': 'Person',\n",
       "   'mode': 'IN',\n",
       "   'internal': False},\n",
       "  {'name': 'nickname',\n",
       "   'type': 'String',\n",
       "   'required': True,\n",
       "   'overrideOptional': False,\n",
       "   'entity': 'Person',\n",
       "   'mode': 'IN',\n",
       "   'internal': False},\n",
       "  {'name': 'firstNameLocal',\n",
       "   'type': 'String',\n",
       "   'required': True,\n",
       "   'overrideOptional': False,\n",
       "   'entity': 'Person',\n",
       "   'mode': 'IN',\n",
       "   'internal': False},\n",
       "  {'name': 'middleNameLocal',\n",
       "   'type': 'String',\n",
       "   'required': True,\n",
       "   'overrideOptional': False,\n",
       "   'entity': 'Person',\n",
       "   'mode': 'IN',\n",
       "   'internal': False},\n",
       "  {'name': 'lastNameLocal',\n",
       "   'type': 'String',\n",
       "   'required': True,\n",
       "   'overrideOptional': False,\n",
       "   'entity': 'Person',\n",
       "   'mode': 'IN',\n",
       "   'internal': False},\n",
       "  {'name': 'otherLocal',\n",
       "   'type': 'String',\n",
       "   'required': True,\n",
       "   'overrideOptional': False,\n",
       "   'entity': 'Person',\n",
       "   'mode': 'IN',\n",
       "   'internal': False},\n",
       "  {'name': 'memberId',\n",
       "   'type': 'String',\n",
       "   'required': True,\n",
       "   'overrideOptional': False,\n",
       "   'entity': 'Person',\n",
       "   'mode': 'IN',\n",
       "   'internal': False},\n",
       "  {'name': 'gender',\n",
       "   'type': 'String',\n",
       "   'required': True,\n",
       "   'overrideOptional': False,\n",
       "   'entity': 'Person',\n",
       "   'mode': 'IN',\n",
       "   'internal': False},\n",
       "  {'name': 'birthDate',\n",
       "   'type': 'java.sql.Date',\n",
       "   'required': True,\n",
       "   'overrideOptional': False,\n",
       "   'entity': 'Person',\n",
       "   'mode': 'IN',\n",
       "   'internal': False},\n",
       "  {'name': 'deceasedDate',\n",
       "   'type': 'java.sql.Date',\n",
       "   'required': True,\n",
       "   'overrideOptional': False,\n",
       "   'entity': 'Person',\n",
       "   'mode': 'IN',\n",
       "   'internal': False},\n",
       "  {'name': 'height',\n",
       "   'type': 'Double',\n",
       "   'required': True,\n",
       "   'overrideOptional': False,\n",
       "   'entity': 'Person',\n",
       "   'mode': 'IN',\n",
       "   'internal': False},\n",
       "  {'name': 'weight',\n",
       "   'type': 'Double',\n",
       "   'required': True,\n",
       "   'overrideOptional': False,\n",
       "   'entity': 'Person',\n",
       "   'mode': 'IN',\n",
       "   'internal': False},\n",
       "  {'name': 'mothersMaidenName',\n",
       "   'type': 'String',\n",
       "   'required': True,\n",
       "   'overrideOptional': False,\n",
       "   'entity': 'Person',\n",
       "   'mode': 'IN',\n",
       "   'internal': False},\n",
       "  {'name': 'oldMaritalStatus',\n",
       "   'type': 'String',\n",
       "   'required': True,\n",
       "   'overrideOptional': False,\n",
       "   'entity': 'Person',\n",
       "   'mode': 'IN',\n",
       "   'internal': False},\n",
       "  {'name': 'maritalStatusEnumId',\n",
       "   'type': 'String',\n",
       "   'required': True,\n",
       "   'overrideOptional': False,\n",
       "   'entity': 'Person',\n",
       "   'mode': 'IN',\n",
       "   'internal': False},\n",
       "  {'name': 'socialSecurityNumber',\n",
       "   'type': 'String',\n",
       "   'required': True,\n",
       "   'overrideOptional': False,\n",
       "   'entity': 'Person',\n",
       "   'mode': 'IN',\n",
       "   'internal': False},\n",
       "  {'name': 'passportNumber',\n",
       "   'type': 'String',\n",
       "   'required': True,\n",
       "   'overrideOptional': False,\n",
       "   'entity': 'Person',\n",
       "   'mode': 'IN',\n",
       "   'internal': False},\n",
       "  {'name': 'passportExpireDate',\n",
       "   'type': 'java.sql.Date',\n",
       "   'required': True,\n",
       "   'overrideOptional': False,\n",
       "   'entity': 'Person',\n",
       "   'mode': 'IN',\n",
       "   'internal': False},\n",
       "  {'name': 'totalYearsWorkExperience',\n",
       "   'type': 'Double',\n",
       "   'required': True,\n",
       "   'overrideOptional': False,\n",
       "   'entity': 'Person',\n",
       "   'mode': 'IN',\n",
       "   'internal': False},\n",
       "  {'name': 'comments',\n",
       "   'type': 'String',\n",
       "   'required': True,\n",
       "   'overrideOptional': False,\n",
       "   'entity': 'Person',\n",
       "   'mode': 'IN',\n",
       "   'internal': False},\n",
       "  {'name': 'employmentStatusEnumId',\n",
       "   'type': 'String',\n",
       "   'required': True,\n",
       "   'overrideOptional': False,\n",
       "   'entity': 'Person',\n",
       "   'mode': 'IN',\n",
       "   'internal': False},\n",
       "  {'name': 'residenceStatusEnumId',\n",
       "   'type': 'String',\n",
       "   'required': True,\n",
       "   'overrideOptional': False,\n",
       "   'entity': 'Person',\n",
       "   'mode': 'IN',\n",
       "   'internal': False},\n",
       "  {'name': 'occupation',\n",
       "   'type': 'String',\n",
       "   'required': True,\n",
       "   'overrideOptional': False,\n",
       "   'entity': 'Person',\n",
       "   'mode': 'IN',\n",
       "   'internal': False},\n",
       "  {'name': 'yearsWithEmployer',\n",
       "   'type': 'Long',\n",
       "   'required': True,\n",
       "   'overrideOptional': False,\n",
       "   'entity': 'Person',\n",
       "   'mode': 'IN',\n",
       "   'internal': False},\n",
       "  {'name': 'monthsWithEmployer',\n",
       "   'type': 'Long',\n",
       "   'required': True,\n",
       "   'overrideOptional': False,\n",
       "   'entity': 'Person',\n",
       "   'mode': 'IN',\n",
       "   'internal': False},\n",
       "  {'name': 'existingCustomer',\n",
       "   'type': 'String',\n",
       "   'required': True,\n",
       "   'overrideOptional': False,\n",
       "   'entity': 'Person',\n",
       "   'mode': 'IN',\n",
       "   'internal': False},\n",
       "  {'name': 'cardId',\n",
       "   'type': 'String',\n",
       "   'required': True,\n",
       "   'overrideOptional': False,\n",
       "   'entity': 'Person',\n",
       "   'mode': 'IN',\n",
       "   'internal': False},\n",
       "  {'name': 'preferredCurrencyUomId',\n",
       "   'type': 'String',\n",
       "   'required': True,\n",
       "   'overrideOptional': False,\n",
       "   'entity': 'Person',\n",
       "   'mode': 'IN',\n",
       "   'internal': False},\n",
       "  {'name': 'description',\n",
       "   'type': 'String',\n",
       "   'required': True,\n",
       "   'overrideOptional': False,\n",
       "   'entity': 'Person',\n",
       "   'mode': 'IN',\n",
       "   'internal': False},\n",
       "  {'name': 'externalId',\n",
       "   'type': 'String',\n",
       "   'required': True,\n",
       "   'overrideOptional': False,\n",
       "   'entity': 'Person',\n",
       "   'mode': 'IN',\n",
       "   'internal': False},\n",
       "  {'name': 'statusId',\n",
       "   'type': 'String',\n",
       "   'required': True,\n",
       "   'overrideOptional': False,\n",
       "   'entity': 'Person',\n",
       "   'mode': 'IN',\n",
       "   'internal': False},\n",
       "  {'name': 'userLogin',\n",
       "   'type': 'org.apache.ofbiz.entity.GenericValue',\n",
       "   'required': True,\n",
       "   'overrideOptional': False,\n",
       "   'entity': None,\n",
       "   'mode': 'INOUT',\n",
       "   'internal': True},\n",
       "  {'name': 'login.username',\n",
       "   'type': 'String',\n",
       "   'required': True,\n",
       "   'overrideOptional': False,\n",
       "   'entity': None,\n",
       "   'mode': 'IN',\n",
       "   'internal': True},\n",
       "  {'name': 'login.password',\n",
       "   'type': 'String',\n",
       "   'required': True,\n",
       "   'overrideOptional': False,\n",
       "   'entity': None,\n",
       "   'mode': 'IN',\n",
       "   'internal': True},\n",
       "  {'name': 'locale',\n",
       "   'type': 'java.util.Locale',\n",
       "   'required': True,\n",
       "   'overrideOptional': False,\n",
       "   'entity': None,\n",
       "   'mode': 'INOUT',\n",
       "   'internal': True},\n",
       "  {'name': 'timeZone',\n",
       "   'type': 'java.util.TimeZone',\n",
       "   'required': True,\n",
       "   'overrideOptional': False,\n",
       "   'entity': None,\n",
       "   'mode': 'INOUT',\n",
       "   'internal': True},\n",
       "  {'name': 'visualTheme',\n",
       "   'type': 'org.apache.ofbiz.widget.renderer.VisualTheme',\n",
       "   'required': True,\n",
       "   'overrideOptional': False,\n",
       "   'entity': None,\n",
       "   'mode': 'INOUT',\n",
       "   'internal': True}],\n",
       " 'paramsOutput': [{'name': 'partyId',\n",
       "   'type': 'String',\n",
       "   'required': False,\n",
       "   'overrideOptional': False,\n",
       "   'entity': 'Person',\n",
       "   'mode': 'OUT',\n",
       "   'internal': False},\n",
       "  {'name': 'responseMessage',\n",
       "   'type': 'String',\n",
       "   'required': True,\n",
       "   'overrideOptional': False,\n",
       "   'entity': None,\n",
       "   'mode': 'OUT',\n",
       "   'internal': True},\n",
       "  {'name': 'errorMessage',\n",
       "   'type': 'String',\n",
       "   'required': True,\n",
       "   'overrideOptional': False,\n",
       "   'entity': None,\n",
       "   'mode': 'OUT',\n",
       "   'internal': True},\n",
       "  {'name': 'errorMessageList',\n",
       "   'type': 'java.util.List',\n",
       "   'required': True,\n",
       "   'overrideOptional': False,\n",
       "   'entity': None,\n",
       "   'mode': 'OUT',\n",
       "   'internal': True},\n",
       "  {'name': 'successMessage',\n",
       "   'type': 'String',\n",
       "   'required': True,\n",
       "   'overrideOptional': False,\n",
       "   'entity': None,\n",
       "   'mode': 'OUT',\n",
       "   'internal': True},\n",
       "  {'name': 'successMessageList',\n",
       "   'type': 'java.util.List',\n",
       "   'required': True,\n",
       "   'overrideOptional': False,\n",
       "   'entity': None,\n",
       "   'mode': 'OUT',\n",
       "   'internal': True},\n",
       "  {'name': 'userLogin',\n",
       "   'type': 'org.apache.ofbiz.entity.GenericValue',\n",
       "   'required': True,\n",
       "   'overrideOptional': False,\n",
       "   'entity': None,\n",
       "   'mode': 'INOUT',\n",
       "   'internal': True},\n",
       "  {'name': 'locale',\n",
       "   'type': 'java.util.Locale',\n",
       "   'required': True,\n",
       "   'overrideOptional': False,\n",
       "   'entity': None,\n",
       "   'mode': 'INOUT',\n",
       "   'internal': True},\n",
       "  {'name': 'timeZone',\n",
       "   'type': 'java.util.TimeZone',\n",
       "   'required': True,\n",
       "   'overrideOptional': False,\n",
       "   'entity': None,\n",
       "   'mode': 'INOUT',\n",
       "   'internal': True},\n",
       "  {'name': 'visualTheme',\n",
       "   'type': 'org.apache.ofbiz.widget.renderer.VisualTheme',\n",
       "   'required': True,\n",
       "   'overrideOptional': False,\n",
       "   'entity': None,\n",
       "   'mode': 'INOUT',\n",
       "   'internal': True}]}"
      ]
     },
     "execution_count": 12,
     "metadata": {},
     "output_type": "execute_result"
    }
   ],
   "source": [
    "def filter_params(model, prec):\n",
    "    params=[{\"name\": param.getName(),\n",
    "             \"type\": param.getType(),\n",
    "             \"required\": param.isOptional(),\n",
    "             \"overrideOptional\": param.isOverrideOptional(),\n",
    "             \"entity\": param.getEntityName(),\n",
    "             \"mode\": param.getMode(),\n",
    "             \"internal\": param.isInternal()\n",
    "            } for param in model.getModelParamList() if prec(param.getMode())]\n",
    "    return params\n",
    "\n",
    "# internal=False\n",
    "service_def={\n",
    "    \"name\": name,    \n",
    "    \"paramsInput\": filter_params(model, lambda m: m==\"IN\" or m==\"INOUT\"),\n",
    "    \"paramsOutput\": filter_params(model, lambda m: m==\"OUT\" or m==\"INOUT\")\n",
    "}\n",
    "\n",
    "service_def"
   ]
  },
  {
   "cell_type": "code",
   "execution_count": 15,
   "metadata": {
    "ExecuteTime": {
     "end_time": "2021-05-31T07:47:52.220118Z",
     "start_time": "2021-05-31T07:47:50.686533Z"
    }
   },
   "outputs": [
    {
     "name": "stdout",
     "output_type": "stream",
     "text": [
      "createPerson\n",
      "createUpdatePerson\n",
      "updatePerson\n"
     ]
    }
   ],
   "source": [
    "ent=\"Person\"\n",
    "\n",
    "services=oc.all_service_names()\n",
    "result=[]\n",
    "for serv_name in services:\n",
    "    model_serv = oc.service_model(serv_name)\n",
    "    def_ent = model_serv.getDefaultEntityName()\n",
    "    if def_ent==ent:\n",
    "        print(serv_name)"
   ]
  },
  {
   "cell_type": "code",
   "execution_count": 4,
   "metadata": {
    "ExecuteTime": {
     "end_time": "2021-11-10T03:34:57.672657Z",
     "start_time": "2021-11-10T03:34:57.528851Z"
    }
   },
   "outputs": [
    {
     "data": {
      "text/html": [
       "<div>\n",
       "<style scoped>\n",
       "    .dataframe tbody tr th:only-of-type {\n",
       "        vertical-align: middle;\n",
       "    }\n",
       "\n",
       "    .dataframe tbody tr th {\n",
       "        vertical-align: top;\n",
       "    }\n",
       "\n",
       "    .dataframe thead th {\n",
       "        text-align: right;\n",
       "    }\n",
       "</style>\n",
       "<table border=\"1\" class=\"dataframe\">\n",
       "  <thead>\n",
       "    <tr style=\"text-align: right;\">\n",
       "      <th></th>\n",
       "      <th>name</th>\n",
       "      <th>type</th>\n",
       "      <th>required</th>\n",
       "      <th>override optional</th>\n",
       "      <th>entity name</th>\n",
       "      <th>mode</th>\n",
       "      <th>internal</th>\n",
       "    </tr>\n",
       "  </thead>\n",
       "  <tbody>\n",
       "    <tr>\n",
       "      <th>0</th>\n",
       "      <td>partyId</td>\n",
       "      <td>String</td>\n",
       "      <td></td>\n",
       "      <td>*</td>\n",
       "      <td>Person</td>\n",
       "      <td>IN</td>\n",
       "      <td></td>\n",
       "    </tr>\n",
       "    <tr>\n",
       "      <th>1</th>\n",
       "      <td>partyId</td>\n",
       "      <td>String</td>\n",
       "      <td>*</td>\n",
       "      <td>*</td>\n",
       "      <td>Person</td>\n",
       "      <td>OUT</td>\n",
       "      <td></td>\n",
       "    </tr>\n",
       "    <tr>\n",
       "      <th>2</th>\n",
       "      <td>salutation</td>\n",
       "      <td>String</td>\n",
       "      <td></td>\n",
       "      <td>*</td>\n",
       "      <td>Person</td>\n",
       "      <td>IN</td>\n",
       "      <td></td>\n",
       "    </tr>\n",
       "    <tr>\n",
       "      <th>3</th>\n",
       "      <td>firstName</td>\n",
       "      <td>String</td>\n",
       "      <td></td>\n",
       "      <td>*</td>\n",
       "      <td>Person</td>\n",
       "      <td>IN</td>\n",
       "      <td></td>\n",
       "    </tr>\n",
       "    <tr>\n",
       "      <th>4</th>\n",
       "      <td>middleName</td>\n",
       "      <td>String</td>\n",
       "      <td></td>\n",
       "      <td>*</td>\n",
       "      <td>Person</td>\n",
       "      <td>IN</td>\n",
       "      <td></td>\n",
       "    </tr>\n",
       "    <tr>\n",
       "      <th>5</th>\n",
       "      <td>lastName</td>\n",
       "      <td>String</td>\n",
       "      <td></td>\n",
       "      <td>*</td>\n",
       "      <td>Person</td>\n",
       "      <td>IN</td>\n",
       "      <td></td>\n",
       "    </tr>\n",
       "    <tr>\n",
       "      <th>6</th>\n",
       "      <td>personalTitle</td>\n",
       "      <td>String</td>\n",
       "      <td></td>\n",
       "      <td>*</td>\n",
       "      <td>Person</td>\n",
       "      <td>IN</td>\n",
       "      <td></td>\n",
       "    </tr>\n",
       "    <tr>\n",
       "      <th>7</th>\n",
       "      <td>suffix</td>\n",
       "      <td>String</td>\n",
       "      <td></td>\n",
       "      <td>*</td>\n",
       "      <td>Person</td>\n",
       "      <td>IN</td>\n",
       "      <td></td>\n",
       "    </tr>\n",
       "    <tr>\n",
       "      <th>8</th>\n",
       "      <td>nickname</td>\n",
       "      <td>String</td>\n",
       "      <td></td>\n",
       "      <td>*</td>\n",
       "      <td>Person</td>\n",
       "      <td>IN</td>\n",
       "      <td></td>\n",
       "    </tr>\n",
       "    <tr>\n",
       "      <th>9</th>\n",
       "      <td>firstNameLocal</td>\n",
       "      <td>String</td>\n",
       "      <td></td>\n",
       "      <td>*</td>\n",
       "      <td>Person</td>\n",
       "      <td>IN</td>\n",
       "      <td></td>\n",
       "    </tr>\n",
       "    <tr>\n",
       "      <th>10</th>\n",
       "      <td>middleNameLocal</td>\n",
       "      <td>String</td>\n",
       "      <td></td>\n",
       "      <td>*</td>\n",
       "      <td>Person</td>\n",
       "      <td>IN</td>\n",
       "      <td></td>\n",
       "    </tr>\n",
       "    <tr>\n",
       "      <th>11</th>\n",
       "      <td>lastNameLocal</td>\n",
       "      <td>String</td>\n",
       "      <td></td>\n",
       "      <td>*</td>\n",
       "      <td>Person</td>\n",
       "      <td>IN</td>\n",
       "      <td></td>\n",
       "    </tr>\n",
       "    <tr>\n",
       "      <th>12</th>\n",
       "      <td>otherLocal</td>\n",
       "      <td>String</td>\n",
       "      <td></td>\n",
       "      <td>*</td>\n",
       "      <td>Person</td>\n",
       "      <td>IN</td>\n",
       "      <td></td>\n",
       "    </tr>\n",
       "    <tr>\n",
       "      <th>13</th>\n",
       "      <td>memberId</td>\n",
       "      <td>String</td>\n",
       "      <td></td>\n",
       "      <td>*</td>\n",
       "      <td>Person</td>\n",
       "      <td>IN</td>\n",
       "      <td></td>\n",
       "    </tr>\n",
       "    <tr>\n",
       "      <th>14</th>\n",
       "      <td>gender</td>\n",
       "      <td>String</td>\n",
       "      <td></td>\n",
       "      <td>*</td>\n",
       "      <td>Person</td>\n",
       "      <td>IN</td>\n",
       "      <td></td>\n",
       "    </tr>\n",
       "    <tr>\n",
       "      <th>15</th>\n",
       "      <td>birthDate</td>\n",
       "      <td>java.sql.Date</td>\n",
       "      <td></td>\n",
       "      <td>*</td>\n",
       "      <td>Person</td>\n",
       "      <td>IN</td>\n",
       "      <td></td>\n",
       "    </tr>\n",
       "    <tr>\n",
       "      <th>16</th>\n",
       "      <td>deceasedDate</td>\n",
       "      <td>java.sql.Date</td>\n",
       "      <td></td>\n",
       "      <td>*</td>\n",
       "      <td>Person</td>\n",
       "      <td>IN</td>\n",
       "      <td></td>\n",
       "    </tr>\n",
       "    <tr>\n",
       "      <th>17</th>\n",
       "      <td>height</td>\n",
       "      <td>Double</td>\n",
       "      <td></td>\n",
       "      <td>*</td>\n",
       "      <td>Person</td>\n",
       "      <td>IN</td>\n",
       "      <td></td>\n",
       "    </tr>\n",
       "    <tr>\n",
       "      <th>18</th>\n",
       "      <td>weight</td>\n",
       "      <td>Double</td>\n",
       "      <td></td>\n",
       "      <td>*</td>\n",
       "      <td>Person</td>\n",
       "      <td>IN</td>\n",
       "      <td></td>\n",
       "    </tr>\n",
       "    <tr>\n",
       "      <th>19</th>\n",
       "      <td>mothersMaidenName</td>\n",
       "      <td>String</td>\n",
       "      <td></td>\n",
       "      <td>*</td>\n",
       "      <td>Person</td>\n",
       "      <td>IN</td>\n",
       "      <td></td>\n",
       "    </tr>\n",
       "    <tr>\n",
       "      <th>20</th>\n",
       "      <td>oldMaritalStatus</td>\n",
       "      <td>String</td>\n",
       "      <td></td>\n",
       "      <td>*</td>\n",
       "      <td>Person</td>\n",
       "      <td>IN</td>\n",
       "      <td></td>\n",
       "    </tr>\n",
       "    <tr>\n",
       "      <th>21</th>\n",
       "      <td>maritalStatusEnumId</td>\n",
       "      <td>String</td>\n",
       "      <td></td>\n",
       "      <td>*</td>\n",
       "      <td>Person</td>\n",
       "      <td>IN</td>\n",
       "      <td></td>\n",
       "    </tr>\n",
       "    <tr>\n",
       "      <th>22</th>\n",
       "      <td>socialSecurityNumber</td>\n",
       "      <td>String</td>\n",
       "      <td></td>\n",
       "      <td>*</td>\n",
       "      <td>Person</td>\n",
       "      <td>IN</td>\n",
       "      <td></td>\n",
       "    </tr>\n",
       "    <tr>\n",
       "      <th>23</th>\n",
       "      <td>passportNumber</td>\n",
       "      <td>String</td>\n",
       "      <td></td>\n",
       "      <td>*</td>\n",
       "      <td>Person</td>\n",
       "      <td>IN</td>\n",
       "      <td></td>\n",
       "    </tr>\n",
       "    <tr>\n",
       "      <th>24</th>\n",
       "      <td>passportExpireDate</td>\n",
       "      <td>java.sql.Date</td>\n",
       "      <td></td>\n",
       "      <td>*</td>\n",
       "      <td>Person</td>\n",
       "      <td>IN</td>\n",
       "      <td></td>\n",
       "    </tr>\n",
       "    <tr>\n",
       "      <th>25</th>\n",
       "      <td>totalYearsWorkExperience</td>\n",
       "      <td>Double</td>\n",
       "      <td></td>\n",
       "      <td>*</td>\n",
       "      <td>Person</td>\n",
       "      <td>IN</td>\n",
       "      <td></td>\n",
       "    </tr>\n",
       "    <tr>\n",
       "      <th>26</th>\n",
       "      <td>comments</td>\n",
       "      <td>String</td>\n",
       "      <td></td>\n",
       "      <td>*</td>\n",
       "      <td>Person</td>\n",
       "      <td>IN</td>\n",
       "      <td></td>\n",
       "    </tr>\n",
       "    <tr>\n",
       "      <th>27</th>\n",
       "      <td>employmentStatusEnumId</td>\n",
       "      <td>String</td>\n",
       "      <td></td>\n",
       "      <td>*</td>\n",
       "      <td>Person</td>\n",
       "      <td>IN</td>\n",
       "      <td></td>\n",
       "    </tr>\n",
       "    <tr>\n",
       "      <th>28</th>\n",
       "      <td>residenceStatusEnumId</td>\n",
       "      <td>String</td>\n",
       "      <td></td>\n",
       "      <td>*</td>\n",
       "      <td>Person</td>\n",
       "      <td>IN</td>\n",
       "      <td></td>\n",
       "    </tr>\n",
       "    <tr>\n",
       "      <th>29</th>\n",
       "      <td>occupation</td>\n",
       "      <td>String</td>\n",
       "      <td></td>\n",
       "      <td>*</td>\n",
       "      <td>Person</td>\n",
       "      <td>IN</td>\n",
       "      <td></td>\n",
       "    </tr>\n",
       "    <tr>\n",
       "      <th>30</th>\n",
       "      <td>yearsWithEmployer</td>\n",
       "      <td>Long</td>\n",
       "      <td></td>\n",
       "      <td>*</td>\n",
       "      <td>Person</td>\n",
       "      <td>IN</td>\n",
       "      <td></td>\n",
       "    </tr>\n",
       "    <tr>\n",
       "      <th>31</th>\n",
       "      <td>monthsWithEmployer</td>\n",
       "      <td>Long</td>\n",
       "      <td></td>\n",
       "      <td>*</td>\n",
       "      <td>Person</td>\n",
       "      <td>IN</td>\n",
       "      <td></td>\n",
       "    </tr>\n",
       "    <tr>\n",
       "      <th>32</th>\n",
       "      <td>existingCustomer</td>\n",
       "      <td>String</td>\n",
       "      <td></td>\n",
       "      <td>*</td>\n",
       "      <td>Person</td>\n",
       "      <td>IN</td>\n",
       "      <td></td>\n",
       "    </tr>\n",
       "    <tr>\n",
       "      <th>33</th>\n",
       "      <td>cardId</td>\n",
       "      <td>String</td>\n",
       "      <td></td>\n",
       "      <td>*</td>\n",
       "      <td>Person</td>\n",
       "      <td>IN</td>\n",
       "      <td></td>\n",
       "    </tr>\n",
       "    <tr>\n",
       "      <th>34</th>\n",
       "      <td>preferredCurrencyUomId</td>\n",
       "      <td>String</td>\n",
       "      <td></td>\n",
       "      <td>*</td>\n",
       "      <td>Person</td>\n",
       "      <td>IN</td>\n",
       "      <td></td>\n",
       "    </tr>\n",
       "    <tr>\n",
       "      <th>35</th>\n",
       "      <td>description</td>\n",
       "      <td>String</td>\n",
       "      <td></td>\n",
       "      <td>*</td>\n",
       "      <td>Person</td>\n",
       "      <td>IN</td>\n",
       "      <td></td>\n",
       "    </tr>\n",
       "    <tr>\n",
       "      <th>36</th>\n",
       "      <td>externalId</td>\n",
       "      <td>String</td>\n",
       "      <td></td>\n",
       "      <td>*</td>\n",
       "      <td>Person</td>\n",
       "      <td>IN</td>\n",
       "      <td></td>\n",
       "    </tr>\n",
       "    <tr>\n",
       "      <th>37</th>\n",
       "      <td>statusId</td>\n",
       "      <td>String</td>\n",
       "      <td></td>\n",
       "      <td>*</td>\n",
       "      <td>Person</td>\n",
       "      <td>IN</td>\n",
       "      <td></td>\n",
       "    </tr>\n",
       "    <tr>\n",
       "      <th>38</th>\n",
       "      <td>responseMessage</td>\n",
       "      <td>String</td>\n",
       "      <td></td>\n",
       "      <td>*</td>\n",
       "      <td>None</td>\n",
       "      <td>OUT</td>\n",
       "      <td>*</td>\n",
       "    </tr>\n",
       "    <tr>\n",
       "      <th>39</th>\n",
       "      <td>errorMessage</td>\n",
       "      <td>String</td>\n",
       "      <td></td>\n",
       "      <td>*</td>\n",
       "      <td>None</td>\n",
       "      <td>OUT</td>\n",
       "      <td>*</td>\n",
       "    </tr>\n",
       "    <tr>\n",
       "      <th>40</th>\n",
       "      <td>errorMessageList</td>\n",
       "      <td>java.util.List</td>\n",
       "      <td></td>\n",
       "      <td>*</td>\n",
       "      <td>None</td>\n",
       "      <td>OUT</td>\n",
       "      <td>*</td>\n",
       "    </tr>\n",
       "    <tr>\n",
       "      <th>41</th>\n",
       "      <td>successMessage</td>\n",
       "      <td>String</td>\n",
       "      <td></td>\n",
       "      <td>*</td>\n",
       "      <td>None</td>\n",
       "      <td>OUT</td>\n",
       "      <td>*</td>\n",
       "    </tr>\n",
       "    <tr>\n",
       "      <th>42</th>\n",
       "      <td>successMessageList</td>\n",
       "      <td>java.util.List</td>\n",
       "      <td></td>\n",
       "      <td>*</td>\n",
       "      <td>None</td>\n",
       "      <td>OUT</td>\n",
       "      <td>*</td>\n",
       "    </tr>\n",
       "    <tr>\n",
       "      <th>43</th>\n",
       "      <td>userLogin</td>\n",
       "      <td>org.apache.ofbiz.entity.GenericValue</td>\n",
       "      <td></td>\n",
       "      <td>*</td>\n",
       "      <td>None</td>\n",
       "      <td>INOUT</td>\n",
       "      <td>*</td>\n",
       "    </tr>\n",
       "    <tr>\n",
       "      <th>44</th>\n",
       "      <td>login.username</td>\n",
       "      <td>String</td>\n",
       "      <td></td>\n",
       "      <td>*</td>\n",
       "      <td>None</td>\n",
       "      <td>IN</td>\n",
       "      <td>*</td>\n",
       "    </tr>\n",
       "    <tr>\n",
       "      <th>45</th>\n",
       "      <td>login.password</td>\n",
       "      <td>String</td>\n",
       "      <td></td>\n",
       "      <td>*</td>\n",
       "      <td>None</td>\n",
       "      <td>IN</td>\n",
       "      <td>*</td>\n",
       "    </tr>\n",
       "    <tr>\n",
       "      <th>46</th>\n",
       "      <td>locale</td>\n",
       "      <td>java.util.Locale</td>\n",
       "      <td></td>\n",
       "      <td>*</td>\n",
       "      <td>None</td>\n",
       "      <td>INOUT</td>\n",
       "      <td>*</td>\n",
       "    </tr>\n",
       "    <tr>\n",
       "      <th>47</th>\n",
       "      <td>timeZone</td>\n",
       "      <td>java.util.TimeZone</td>\n",
       "      <td></td>\n",
       "      <td>*</td>\n",
       "      <td>None</td>\n",
       "      <td>INOUT</td>\n",
       "      <td>*</td>\n",
       "    </tr>\n",
       "    <tr>\n",
       "      <th>48</th>\n",
       "      <td>visualTheme</td>\n",
       "      <td>org.apache.ofbiz.widget.renderer.VisualTheme</td>\n",
       "      <td></td>\n",
       "      <td>*</td>\n",
       "      <td>None</td>\n",
       "      <td>INOUT</td>\n",
       "      <td>*</td>\n",
       "    </tr>\n",
       "  </tbody>\n",
       "</table>\n",
       "</div>"
      ],
      "text/plain": [
       "                        name                                          type  \\\n",
       "0                    partyId                                        String   \n",
       "1                    partyId                                        String   \n",
       "2                 salutation                                        String   \n",
       "3                  firstName                                        String   \n",
       "4                 middleName                                        String   \n",
       "5                   lastName                                        String   \n",
       "6              personalTitle                                        String   \n",
       "7                     suffix                                        String   \n",
       "8                   nickname                                        String   \n",
       "9             firstNameLocal                                        String   \n",
       "10           middleNameLocal                                        String   \n",
       "11             lastNameLocal                                        String   \n",
       "12                otherLocal                                        String   \n",
       "13                  memberId                                        String   \n",
       "14                    gender                                        String   \n",
       "15                 birthDate                                 java.sql.Date   \n",
       "16              deceasedDate                                 java.sql.Date   \n",
       "17                    height                                        Double   \n",
       "18                    weight                                        Double   \n",
       "19         mothersMaidenName                                        String   \n",
       "20          oldMaritalStatus                                        String   \n",
       "21       maritalStatusEnumId                                        String   \n",
       "22      socialSecurityNumber                                        String   \n",
       "23            passportNumber                                        String   \n",
       "24        passportExpireDate                                 java.sql.Date   \n",
       "25  totalYearsWorkExperience                                        Double   \n",
       "26                  comments                                        String   \n",
       "27    employmentStatusEnumId                                        String   \n",
       "28     residenceStatusEnumId                                        String   \n",
       "29                occupation                                        String   \n",
       "30         yearsWithEmployer                                          Long   \n",
       "31        monthsWithEmployer                                          Long   \n",
       "32          existingCustomer                                        String   \n",
       "33                    cardId                                        String   \n",
       "34    preferredCurrencyUomId                                        String   \n",
       "35               description                                        String   \n",
       "36                externalId                                        String   \n",
       "37                  statusId                                        String   \n",
       "38           responseMessage                                        String   \n",
       "39              errorMessage                                        String   \n",
       "40          errorMessageList                                java.util.List   \n",
       "41            successMessage                                        String   \n",
       "42        successMessageList                                java.util.List   \n",
       "43                 userLogin          org.apache.ofbiz.entity.GenericValue   \n",
       "44            login.username                                        String   \n",
       "45            login.password                                        String   \n",
       "46                    locale                              java.util.Locale   \n",
       "47                  timeZone                            java.util.TimeZone   \n",
       "48               visualTheme  org.apache.ofbiz.widget.renderer.VisualTheme   \n",
       "\n",
       "   required override optional entity name   mode internal  \n",
       "0                           *      Person     IN           \n",
       "1         *                 *      Person    OUT           \n",
       "2                           *      Person     IN           \n",
       "3                           *      Person     IN           \n",
       "4                           *      Person     IN           \n",
       "5                           *      Person     IN           \n",
       "6                           *      Person     IN           \n",
       "7                           *      Person     IN           \n",
       "8                           *      Person     IN           \n",
       "9                           *      Person     IN           \n",
       "10                          *      Person     IN           \n",
       "11                          *      Person     IN           \n",
       "12                          *      Person     IN           \n",
       "13                          *      Person     IN           \n",
       "14                          *      Person     IN           \n",
       "15                          *      Person     IN           \n",
       "16                          *      Person     IN           \n",
       "17                          *      Person     IN           \n",
       "18                          *      Person     IN           \n",
       "19                          *      Person     IN           \n",
       "20                          *      Person     IN           \n",
       "21                          *      Person     IN           \n",
       "22                          *      Person     IN           \n",
       "23                          *      Person     IN           \n",
       "24                          *      Person     IN           \n",
       "25                          *      Person     IN           \n",
       "26                          *      Person     IN           \n",
       "27                          *      Person     IN           \n",
       "28                          *      Person     IN           \n",
       "29                          *      Person     IN           \n",
       "30                          *      Person     IN           \n",
       "31                          *      Person     IN           \n",
       "32                          *      Person     IN           \n",
       "33                          *      Person     IN           \n",
       "34                          *      Person     IN           \n",
       "35                          *      Person     IN           \n",
       "36                          *      Person     IN           \n",
       "37                          *      Person     IN           \n",
       "38                          *        None    OUT        *  \n",
       "39                          *        None    OUT        *  \n",
       "40                          *        None    OUT        *  \n",
       "41                          *        None    OUT        *  \n",
       "42                          *        None    OUT        *  \n",
       "43                          *        None  INOUT        *  \n",
       "44                          *        None     IN        *  \n",
       "45                          *        None     IN        *  \n",
       "46                          *        None  INOUT        *  \n",
       "47                          *        None  INOUT        *  \n",
       "48                          *        None  INOUT        *  "
      ]
     },
     "execution_count": 4,
     "metadata": {},
     "output_type": "execute_result"
    }
   ],
   "source": [
    "name='createPerson'\n",
    "model=MetaService(name).model\n",
    "default_ent=model.getDefaultEntityName()\n",
    "params=model.getModelParamList()\n",
    "model_desc=get_params(params)\n",
    "df = pd.DataFrame(model_desc)\n",
    "\n",
    "df"
   ]
  },
  {
   "cell_type": "code",
   "execution_count": 7,
   "metadata": {
    "ExecuteTime": {
     "end_time": "2021-11-10T03:35:54.822774Z",
     "start_time": "2021-11-10T03:35:54.813104Z"
    }
   },
   "outputs": [
    {
     "data": {
      "text/plain": [
       "'org.apache.ofbiz.service.ModelService'"
      ]
     },
     "execution_count": 7,
     "metadata": {},
     "output_type": "execute_result"
    }
   ],
   "source": [
    "model.getClass().getName()"
   ]
  },
  {
   "cell_type": "code",
   "execution_count": 9,
   "metadata": {
    "ExecuteTime": {
     "end_time": "2021-11-10T03:36:42.350067Z",
     "start_time": "2021-11-10T03:36:42.273273Z"
    }
   },
   "outputs": [
    {
     "data": {
      "text/plain": [
       "'createPerson'"
      ]
     },
     "execution_count": 9,
     "metadata": {},
     "output_type": "execute_result"
    }
   ],
   "source": [
    "model.getName()"
   ]
  },
  {
   "cell_type": "code",
   "execution_count": 11,
   "metadata": {
    "ExecuteTime": {
     "end_time": "2021-11-10T03:39:20.334246Z",
     "start_time": "2021-11-10T03:39:20.325031Z"
    }
   },
   "outputs": [],
   "source": [
    "oc.import_package('org.apache.ofbiz.service.eca.ServiceEcaUtil')"
   ]
  },
  {
   "cell_type": "code",
   "execution_count": 16,
   "metadata": {
    "ExecuteTime": {
     "end_time": "2021-11-10T03:40:23.751118Z",
     "start_time": "2021-11-10T03:40:23.733304Z"
    }
   },
   "outputs": [
    {
     "data": {
      "text/plain": [
       "{'commit': [JavaObject id=o1948]}"
      ]
     },
     "execution_count": 16,
     "metadata": {},
     "output_type": "execute_result"
    }
   ],
   "source": [
    "eventMap = oc.j.ServiceEcaUtil.getServiceEventMap(model.getName())\n",
    "eventMap"
   ]
  },
  {
   "cell_type": "code",
   "execution_count": 20,
   "metadata": {
    "ExecuteTime": {
     "end_time": "2021-11-10T03:42:35.263722Z",
     "start_time": "2021-11-10T03:42:35.251647Z"
    }
   },
   "outputs": [
    {
     "data": {
      "text/plain": [
       "({'commit'}, 1)"
      ]
     },
     "execution_count": 20,
     "metadata": {},
     "output_type": "execute_result"
    }
   ],
   "source": [
    "eventMap.keySet(), eventMap['commit'].size()"
   ]
  },
  {
   "cell_type": "code",
   "execution_count": 24,
   "metadata": {
    "ExecuteTime": {
     "end_time": "2021-11-10T03:43:32.532109Z",
     "start_time": "2021-11-10T03:43:32.523580Z"
    }
   },
   "outputs": [
    {
     "data": {
      "text/plain": [
       "'file:/Users/xiaofeiwu/jcloud/assets/langs/workspace/ofbiz/ofbiz-framework/applications/party/servicedef/secas.xml'"
      ]
     },
     "execution_count": 24,
     "metadata": {},
     "output_type": "execute_result"
    }
   ],
   "source": [
    "ecaRule=eventMap['commit'][0]\n",
    "ecaRule.getDefinitionLocation() # ServiceEcaRule"
   ]
  },
  {
   "cell_type": "code",
   "execution_count": 38,
   "metadata": {
    "ExecuteTime": {
     "end_time": "2021-11-10T03:49:44.968729Z",
     "start_time": "2021-11-10T03:49:44.957914Z"
    }
   },
   "outputs": [
    {
     "data": {
      "text/plain": [
       "('commit', 'createPerson', 1, 1)"
      ]
     },
     "execution_count": 38,
     "metadata": {},
     "output_type": "execute_result"
    }
   ],
   "source": [
    "ecaRule.getEventName(), ecaRule.getServiceName(), \\\n",
    "    ecaRule.getEcaActionList().size(), ecaRule.getEcaActionList().size()"
   ]
  },
  {
   "cell_type": "code",
   "execution_count": 39,
   "metadata": {
    "ExecuteTime": {
     "end_time": "2021-11-10T03:50:35.292939Z",
     "start_time": "2021-11-10T03:50:35.275736Z"
    }
   },
   "outputs": [
    {
     "data": {
      "text/plain": [
       "[('ensureNaPartyRole', 'sync')]"
      ]
     },
     "execution_count": 39,
     "metadata": {},
     "output_type": "execute_result"
    }
   ],
   "source": [
    "[(action.getServiceName(), action.getServiceMode()) for action in ecaRule.getEcaActionList()]"
   ]
  },
  {
   "cell_type": "code",
   "execution_count": 41,
   "metadata": {
    "ExecuteTime": {
     "end_time": "2021-11-10T03:53:21.657557Z",
     "start_time": "2021-11-10T03:53:21.646060Z"
    }
   },
   "outputs": [
    {
     "data": {
      "text/plain": [
       "[]"
      ]
     },
     "execution_count": 41,
     "metadata": {},
     "output_type": "execute_result"
    }
   ],
   "source": [
    "[cond.getShortDisplayDescription(False) for cond in ecaRule.getEcaConditionList()]"
   ]
  },
  {
   "cell_type": "code",
   "execution_count": 42,
   "metadata": {
    "ExecuteTime": {
     "end_time": "2021-11-10T03:53:52.359706Z",
     "start_time": "2021-11-10T03:53:52.184793Z"
    }
   },
   "outputs": [
    {
     "data": {
      "text/html": [
       "<div>\n",
       "<style scoped>\n",
       "    .dataframe tbody tr th:only-of-type {\n",
       "        vertical-align: middle;\n",
       "    }\n",
       "\n",
       "    .dataframe tbody tr th {\n",
       "        vertical-align: top;\n",
       "    }\n",
       "\n",
       "    .dataframe thead th {\n",
       "        text-align: right;\n",
       "    }\n",
       "</style>\n",
       "<table border=\"1\" class=\"dataframe\">\n",
       "  <thead>\n",
       "    <tr style=\"text-align: right;\">\n",
       "      <th></th>\n",
       "      <th>name</th>\n",
       "      <th>type</th>\n",
       "      <th>required</th>\n",
       "      <th>override optional</th>\n",
       "      <th>entity name</th>\n",
       "      <th>mode</th>\n",
       "      <th>internal</th>\n",
       "    </tr>\n",
       "  </thead>\n",
       "  <tbody>\n",
       "    <tr>\n",
       "      <th>0</th>\n",
       "      <td>partyId</td>\n",
       "      <td>String</td>\n",
       "      <td>*</td>\n",
       "      <td>*</td>\n",
       "      <td></td>\n",
       "      <td>IN</td>\n",
       "      <td></td>\n",
       "    </tr>\n",
       "    <tr>\n",
       "      <th>1</th>\n",
       "      <td>placingCustomerPartyId</td>\n",
       "      <td>String</td>\n",
       "      <td></td>\n",
       "      <td>*</td>\n",
       "      <td></td>\n",
       "      <td>IN</td>\n",
       "      <td></td>\n",
       "    </tr>\n",
       "    <tr>\n",
       "      <th>2</th>\n",
       "      <td>billToCustomerPartyId</td>\n",
       "      <td>String</td>\n",
       "      <td></td>\n",
       "      <td>*</td>\n",
       "      <td></td>\n",
       "      <td>IN</td>\n",
       "      <td></td>\n",
       "    </tr>\n",
       "    <tr>\n",
       "      <th>3</th>\n",
       "      <td>shipToCustomerPartyId</td>\n",
       "      <td>String</td>\n",
       "      <td></td>\n",
       "      <td>*</td>\n",
       "      <td></td>\n",
       "      <td>IN</td>\n",
       "      <td></td>\n",
       "    </tr>\n",
       "    <tr>\n",
       "      <th>4</th>\n",
       "      <td>endUserCustomerPartyId</td>\n",
       "      <td>String</td>\n",
       "      <td></td>\n",
       "      <td>*</td>\n",
       "      <td></td>\n",
       "      <td>IN</td>\n",
       "      <td></td>\n",
       "    </tr>\n",
       "    <tr>\n",
       "      <th>...</th>\n",
       "      <td>...</td>\n",
       "      <td>...</td>\n",
       "      <td>...</td>\n",
       "      <td>...</td>\n",
       "      <td>...</td>\n",
       "      <td>...</td>\n",
       "      <td>...</td>\n",
       "    </tr>\n",
       "    <tr>\n",
       "      <th>63</th>\n",
       "      <td>login.username</td>\n",
       "      <td>String</td>\n",
       "      <td></td>\n",
       "      <td>*</td>\n",
       "      <td>None</td>\n",
       "      <td>IN</td>\n",
       "      <td>*</td>\n",
       "    </tr>\n",
       "    <tr>\n",
       "      <th>64</th>\n",
       "      <td>login.password</td>\n",
       "      <td>String</td>\n",
       "      <td></td>\n",
       "      <td>*</td>\n",
       "      <td>None</td>\n",
       "      <td>IN</td>\n",
       "      <td>*</td>\n",
       "    </tr>\n",
       "    <tr>\n",
       "      <th>65</th>\n",
       "      <td>locale</td>\n",
       "      <td>java.util.Locale</td>\n",
       "      <td></td>\n",
       "      <td>*</td>\n",
       "      <td>None</td>\n",
       "      <td>INOUT</td>\n",
       "      <td>*</td>\n",
       "    </tr>\n",
       "    <tr>\n",
       "      <th>66</th>\n",
       "      <td>timeZone</td>\n",
       "      <td>java.util.TimeZone</td>\n",
       "      <td></td>\n",
       "      <td>*</td>\n",
       "      <td>None</td>\n",
       "      <td>INOUT</td>\n",
       "      <td>*</td>\n",
       "    </tr>\n",
       "    <tr>\n",
       "      <th>67</th>\n",
       "      <td>visualTheme</td>\n",
       "      <td>org.apache.ofbiz.widget.renderer.VisualTheme</td>\n",
       "      <td></td>\n",
       "      <td>*</td>\n",
       "      <td>None</td>\n",
       "      <td>INOUT</td>\n",
       "      <td>*</td>\n",
       "    </tr>\n",
       "  </tbody>\n",
       "</table>\n",
       "<p>68 rows × 7 columns</p>\n",
       "</div>"
      ],
      "text/plain": [
       "                      name                                          type  \\\n",
       "0                  partyId                                        String   \n",
       "1   placingCustomerPartyId                                        String   \n",
       "2    billToCustomerPartyId                                        String   \n",
       "3    shipToCustomerPartyId                                        String   \n",
       "4   endUserCustomerPartyId                                        String   \n",
       "..                     ...                                           ...   \n",
       "63          login.username                                        String   \n",
       "64          login.password                                        String   \n",
       "65                  locale                              java.util.Locale   \n",
       "66                timeZone                            java.util.TimeZone   \n",
       "67             visualTheme  org.apache.ofbiz.widget.renderer.VisualTheme   \n",
       "\n",
       "   required override optional entity name   mode internal  \n",
       "0         *                 *                 IN           \n",
       "1                           *                 IN           \n",
       "2                           *                 IN           \n",
       "3                           *                 IN           \n",
       "4                           *                 IN           \n",
       "..      ...               ...         ...    ...      ...  \n",
       "63                          *        None     IN        *  \n",
       "64                          *        None     IN        *  \n",
       "65                          *        None  INOUT        *  \n",
       "66                          *        None  INOUT        *  \n",
       "67                          *        None  INOUT        *  \n",
       "\n",
       "[68 rows x 7 columns]"
      ]
     },
     "execution_count": 42,
     "metadata": {},
     "output_type": "execute_result"
    }
   ],
   "source": [
    "name='storeOrder'\n",
    "model=MetaService(name).model\n",
    "default_ent=model.getDefaultEntityName()\n",
    "params=model.getModelParamList()\n",
    "model_desc=get_params(params)\n",
    "df = pd.DataFrame(model_desc)\n",
    "\n",
    "df"
   ]
  },
  {
   "cell_type": "code",
   "execution_count": 49,
   "metadata": {
    "ExecuteTime": {
     "end_time": "2021-11-10T03:56:04.424312Z",
     "start_time": "2021-11-10T03:56:04.409018Z"
    }
   },
   "outputs": [
    {
     "data": {
      "text/plain": [
       "{'commit', 'return'}"
      ]
     },
     "execution_count": 49,
     "metadata": {},
     "output_type": "execute_result"
    }
   ],
   "source": [
    "eventMap = oc.j.ServiceEcaUtil.getServiceEventMap(model.getName())\n",
    "# eventMap\n",
    "eventMap.keySet()"
   ]
  },
  {
   "cell_type": "code",
   "execution_count": 48,
   "metadata": {
    "ExecuteTime": {
     "end_time": "2021-11-10T03:55:50.515670Z",
     "start_time": "2021-11-10T03:55:50.504221Z"
    }
   },
   "outputs": [
    {
     "data": {
      "text/plain": [
       "(3, 6)"
      ]
     },
     "execution_count": 48,
     "metadata": {},
     "output_type": "execute_result"
    }
   ],
   "source": [
    "eventMap['commit'].size(), eventMap['return'].size()"
   ]
  },
  {
   "cell_type": "code",
   "execution_count": 52,
   "metadata": {
    "ExecuteTime": {
     "end_time": "2021-11-10T04:34:53.567760Z",
     "start_time": "2021-11-10T04:34:53.543071Z"
    }
   },
   "outputs": [
    {
     "name": "stdout",
     "output_type": "stream",
     "text": [
      "commit 3\n",
      "return 6\n"
     ]
    }
   ],
   "source": [
    "for key,evs in eventMap.items():\n",
    "    print(key, evs.size())"
   ]
  },
  {
   "cell_type": "code",
   "execution_count": 45,
   "metadata": {
    "ExecuteTime": {
     "end_time": "2021-11-10T03:54:56.738980Z",
     "start_time": "2021-11-10T03:54:56.728261Z"
    }
   },
   "outputs": [
    {
     "data": {
      "text/plain": [
       "'file:/Users/xiaofeiwu/jcloud/assets/langs/workspace/ofbiz/ofbiz-framework/applications/order/servicedef/secas.xml'"
      ]
     },
     "execution_count": 45,
     "metadata": {},
     "output_type": "execute_result"
    }
   ],
   "source": [
    "ecaRule=eventMap['commit'][0]\n",
    "ecaRule.getDefinitionLocation() # ServiceEcaRule"
   ]
  },
  {
   "cell_type": "code",
   "execution_count": 46,
   "metadata": {
    "ExecuteTime": {
     "end_time": "2021-11-10T03:55:00.635271Z",
     "start_time": "2021-11-10T03:55:00.622868Z"
    }
   },
   "outputs": [
    {
     "data": {
      "text/plain": [
       "['[originOrderId:is-not-empty:]']"
      ]
     },
     "execution_count": 46,
     "metadata": {},
     "output_type": "execute_result"
    }
   ],
   "source": [
    "[cond.getShortDisplayDescription(False) for cond in ecaRule.getEcaConditionList()]"
   ]
  },
  {
   "cell_type": "code",
   "execution_count": 53,
   "metadata": {
    "ExecuteTime": {
     "end_time": "2021-11-10T04:48:43.554627Z",
     "start_time": "2021-11-10T04:48:43.507929Z"
    }
   },
   "outputs": [
    {
     "data": {
      "text/plain": [
       "'Create a Person'"
      ]
     },
     "execution_count": 53,
     "metadata": {},
     "output_type": "execute_result"
    }
   ],
   "source": [
    "MetaService('createPerson').model.getDescription()"
   ]
  }
 ],
 "metadata": {
  "kernelspec": {
   "display_name": "Python 3",
   "language": "python",
   "name": "python3"
  },
  "language_info": {
   "codemirror_mode": {
    "name": "ipython",
    "version": 3
   },
   "file_extension": ".py",
   "mimetype": "text/x-python",
   "name": "python",
   "nbconvert_exporter": "python",
   "pygments_lexer": "ipython3",
   "version": "3.7.7"
  },
  "varInspector": {
   "cols": {
    "lenName": 16,
    "lenType": 16,
    "lenVar": 40
   },
   "kernels_config": {
    "python": {
     "delete_cmd_postfix": "",
     "delete_cmd_prefix": "del ",
     "library": "var_list.py",
     "varRefreshCmd": "print(var_dic_list())"
    },
    "r": {
     "delete_cmd_postfix": ") ",
     "delete_cmd_prefix": "rm(",
     "library": "var_list.r",
     "varRefreshCmd": "cat(var_dic_list()) "
    }
   },
   "types_to_exclude": [
    "module",
    "function",
    "builtin_function_or_method",
    "instance",
    "_Feature"
   ],
   "window_display": false
  }
 },
 "nbformat": 4,
 "nbformat_minor": 4
}
