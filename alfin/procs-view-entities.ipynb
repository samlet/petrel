{
 "cells": [
  {
   "cell_type": "code",
   "execution_count": 1,
   "metadata": {
    "ExecuteTime": {
     "end_time": "2021-11-10T03:32:51.351400Z",
     "start_time": "2021-11-10T03:32:48.941915Z"
    }
   },
   "outputs": [
    {
     "name": "stdout",
     "output_type": "stream",
     "text": [
      "2021-11-10 11:32:50,597 - sagas.ofbiz.connector - INFO - connect to py4j-gateway localhost 22333\n"
     ]
    },
    {
     "data": {
      "text/plain": [
       "Decimal('36.43')"
      ]
     },
     "execution_count": 1,
     "metadata": {},
     "output_type": "execute_result"
    }
   ],
   "source": [
    "from sagas.modules.deles import *\n",
    "invoices.getInvoiceTotal(\"demo10001\")"
   ]
  },
  {
   "cell_type": "code",
   "execution_count": 2,
   "metadata": {
    "ExecuteTime": {
     "end_time": "2021-05-30T11:39:05.059914Z",
     "start_time": "2021-05-30T11:39:05.030336Z"
    }
   },
   "outputs": [
    {
     "data": {
      "text/plain": [
       "1199"
      ]
     },
     "execution_count": 2,
     "metadata": {},
     "output_type": "execute_result"
    }
   ],
   "source": [
    "vals=oc.delegator.getModelReader().getEntityNames()\n",
    "len(vals)"
   ]
  },
  {
   "cell_type": "code",
   "execution_count": 3,
   "metadata": {
    "ExecuteTime": {
     "end_time": "2021-05-30T11:39:05.097007Z",
     "start_time": "2021-05-30T11:39:05.079749Z"
    }
   },
   "outputs": [
    {
     "data": {
      "text/plain": [
       "'org.apache.ofbiz.entity.GenericDelegator'"
      ]
     },
     "execution_count": 3,
     "metadata": {},
     "output_type": "execute_result"
    }
   ],
   "source": [
    "oc.delegator.getClass().getName()"
   ]
  },
  {
   "cell_type": "code",
   "execution_count": 4,
   "metadata": {
    "ExecuteTime": {
     "end_time": "2021-05-30T11:39:05.708615Z",
     "start_time": "2021-05-30T11:39:05.122584Z"
    }
   },
   "outputs": [
    {
     "data": {
      "text/plain": [
       "319"
      ]
     },
     "execution_count": 4,
     "metadata": {},
     "output_type": "execute_result"
    }
   ],
   "source": [
    "views=[]\n",
    "for ent in vals:\n",
    "    model=oc.delegator.getModelEntity(ent)\n",
    "    if model.getClass().getName().endswith(\"ModelViewEntity\"):\n",
    "        views.append(model)\n",
    "len(views)        "
   ]
  },
  {
   "cell_type": "code",
   "execution_count": 5,
   "metadata": {
    "ExecuteTime": {
     "end_time": "2021-05-30T11:39:05.735761Z",
     "start_time": "2021-05-30T11:39:05.714106Z"
    }
   },
   "outputs": [
    {
     "data": {
      "text/plain": [
       "'InventoryItemAndDetail'"
      ]
     },
     "execution_count": 5,
     "metadata": {},
     "output_type": "execute_result"
    }
   ],
   "source": [
    "view=views[0]\n",
    "view.getEntityName()"
   ]
  },
  {
   "cell_type": "code",
   "execution_count": 6,
   "metadata": {
    "ExecuteTime": {
     "end_time": "2021-05-30T11:39:05.862928Z",
     "start_time": "2021-05-30T11:39:05.745485Z"
    }
   },
   "outputs": [
    {
     "name": "stdout",
     "output_type": "stream",
     "text": [
      "II InventoryItem\n",
      "IID InventoryItemDetail\n"
     ]
    }
   ],
   "source": [
    "for member in view.getAllModelMemberEntities():\n",
    "    print(member.getEntityAlias(), member.getEntityName())"
   ]
  },
  {
   "cell_type": "code",
   "execution_count": 7,
   "metadata": {
    "ExecuteTime": {
     "end_time": "2021-05-30T11:39:05.976607Z",
     "start_time": "2021-05-30T11:39:05.885976Z"
    }
   },
   "outputs": [
    {
     "name": "stdout",
     "output_type": "stream",
     "text": [
      "II IID\n",
      "inventoryItemId:inventoryItemId\n",
      "inventoryItemId -> inventoryItemId\n"
     ]
    }
   ],
   "source": [
    "for link in view.getViewLinksCopy():\n",
    "    print(link.getEntityAlias(), link.getRelEntityAlias())\n",
    "    for keymap in link.getKeyMapsCopy():\n",
    "        print(keymap.toString())\n",
    "        print(keymap.getFieldName(), '->', keymap.getRelFieldName())\n"
   ]
  },
  {
   "cell_type": "code",
   "execution_count": 10,
   "metadata": {
    "ExecuteTime": {
     "end_time": "2021-05-30T11:40:48.746241Z",
     "start_time": "2021-05-30T11:40:48.736241Z"
    }
   },
   "outputs": [
    {
     "data": {
      "text/plain": [
       "'Hello John Doe!'"
      ]
     },
     "execution_count": 10,
     "metadata": {},
     "output_type": "execute_result"
    }
   ],
   "source": [
    "from jinja2 import Environment, PackageLoader, Template\n",
    "\n",
    "template = Template('Hello {{ name }}!')\n",
    "template.render(name='John Doe')"
   ]
  },
  {
   "cell_type": "code",
   "execution_count": null,
   "metadata": {},
   "outputs": [],
   "source": [
    "# model=oc.delegator.getModelEntity(ent)"
   ]
  },
  {
   "cell_type": "code",
   "execution_count": 17,
   "metadata": {
    "ExecuteTime": {
     "end_time": "2021-05-30T11:49:12.680035Z",
     "start_time": "2021-05-30T11:49:12.673537Z"
    }
   },
   "outputs": [
    {
     "data": {
      "text/plain": [
       "JavaObject id=o4941"
      ]
     },
     "execution_count": 17,
     "metadata": {},
     "output_type": "execute_result"
    }
   ],
   "source": [
    "view"
   ]
  },
  {
   "cell_type": "code",
   "execution_count": 20,
   "metadata": {
    "ExecuteTime": {
     "end_time": "2021-05-30T11:50:47.902257Z",
     "start_time": "2021-05-30T11:50:47.883348Z"
    }
   },
   "outputs": [
    {
     "data": {
      "text/plain": [
       "['workEffortId', 'orderId', 'softIdentifier', 'binNumber', 'description', 'maintHistSeqId', 'inventoryItemDetailSeqId', 'oldAvailableToPromise', 'accountingQuantityDiff', 'physicalInventoryId', 'inventoryItemFixedAssetId', 'quantityOnHandTotal', 'itemIssuanceId', 'datetimeManufactured', 'returnId', 'expireDate', 'oldQuantityOnHand', 'reasonEnumId', 'partyId', 'containerId', 'availableToPromiseTotal', 'receiptId', 'inventoryItemTypeId', 'locationSeqId', 'quantityOnHandDiff', 'orderItemSeqId', 'facilityId', 'comments', 'serialNumber', 'productId', 'lotId', 'uomId', 'accountingQuantityTotal', 'shipmentItemSeqId', 'shipGroupSeqId', 'inventoryItemId', 'ownerPartyId', 'activationValidThru', 'activationNumber', 'currencyUomId', 'statusId', 'availableToPromiseDiff', 'shipmentId', 'unitCost', 'returnItemSeqId', 'fixedAssetId', 'datetimeReceived', 'effectiveDate']"
      ]
     },
     "execution_count": 20,
     "metadata": {},
     "output_type": "execute_result"
    }
   ],
   "source": [
    "view.getAllFieldNames()"
   ]
  },
  {
   "cell_type": "code",
   "execution_count": 23,
   "metadata": {
    "ExecuteTime": {
     "end_time": "2021-05-30T11:51:43.344552Z",
     "start_time": "2021-05-30T11:51:43.331896Z"
    }
   },
   "outputs": [
    {
     "data": {
      "text/plain": [
       "['inventoryItemId', 'inventoryItemDetailSeqId']"
      ]
     },
     "execution_count": 23,
     "metadata": {},
     "output_type": "execute_result"
    }
   ],
   "source": [
    "from sagas.ofbiz.entities import MetaEntity as me\n",
    "ent_meta=me(view.getEntityName())\n",
    "ent_meta.primary"
   ]
  },
  {
   "cell_type": "code",
   "execution_count": 32,
   "metadata": {
    "ExecuteTime": {
     "end_time": "2021-05-30T13:52:35.131758Z",
     "start_time": "2021-05-30T13:52:35.043071Z"
    }
   },
   "outputs": [
    {
     "data": {
      "text/plain": [
       "{'name': 'Invoice',\n",
       " 'fields': [{'name': 'invoiceId',\n",
       "   'type': 'id',\n",
       "   'col': 'INVOICE_ID',\n",
       "   'pk': True,\n",
       "   'notNull': True,\n",
       "   'encrypt': False,\n",
       "   'autoCreatedInternal': False,\n",
       "   'validators': []},\n",
       "  {'name': 'invoiceTypeId',\n",
       "   'type': 'id',\n",
       "   'col': 'INVOICE_TYPE_ID',\n",
       "   'pk': False,\n",
       "   'notNull': False,\n",
       "   'encrypt': False,\n",
       "   'autoCreatedInternal': False,\n",
       "   'validators': []},\n",
       "  {'name': 'partyIdFrom',\n",
       "   'type': 'id',\n",
       "   'col': 'PARTY_ID_FROM',\n",
       "   'pk': False,\n",
       "   'notNull': False,\n",
       "   'encrypt': False,\n",
       "   'autoCreatedInternal': False,\n",
       "   'validators': []},\n",
       "  {'name': 'partyId',\n",
       "   'type': 'id',\n",
       "   'col': 'PARTY_ID',\n",
       "   'pk': False,\n",
       "   'notNull': False,\n",
       "   'encrypt': False,\n",
       "   'autoCreatedInternal': False,\n",
       "   'validators': []},\n",
       "  {'name': 'roleTypeId',\n",
       "   'type': 'id',\n",
       "   'col': 'ROLE_TYPE_ID',\n",
       "   'pk': False,\n",
       "   'notNull': False,\n",
       "   'encrypt': False,\n",
       "   'autoCreatedInternal': False,\n",
       "   'validators': []},\n",
       "  {'name': 'statusId',\n",
       "   'type': 'id',\n",
       "   'col': 'STATUS_ID',\n",
       "   'pk': False,\n",
       "   'notNull': False,\n",
       "   'encrypt': False,\n",
       "   'autoCreatedInternal': False,\n",
       "   'validators': []},\n",
       "  {'name': 'billingAccountId',\n",
       "   'type': 'id',\n",
       "   'col': 'BILLING_ACCOUNT_ID',\n",
       "   'pk': False,\n",
       "   'notNull': False,\n",
       "   'encrypt': False,\n",
       "   'autoCreatedInternal': False,\n",
       "   'validators': []},\n",
       "  {'name': 'contactMechId',\n",
       "   'type': 'id',\n",
       "   'col': 'CONTACT_MECH_ID',\n",
       "   'pk': False,\n",
       "   'notNull': False,\n",
       "   'encrypt': False,\n",
       "   'autoCreatedInternal': False,\n",
       "   'validators': []},\n",
       "  {'name': 'invoiceDate',\n",
       "   'type': 'date-time',\n",
       "   'col': 'INVOICE_DATE',\n",
       "   'pk': False,\n",
       "   'notNull': False,\n",
       "   'encrypt': False,\n",
       "   'autoCreatedInternal': False,\n",
       "   'validators': []},\n",
       "  {'name': 'dueDate',\n",
       "   'type': 'date-time',\n",
       "   'col': 'DUE_DATE',\n",
       "   'pk': False,\n",
       "   'notNull': False,\n",
       "   'encrypt': False,\n",
       "   'autoCreatedInternal': False,\n",
       "   'validators': []},\n",
       "  {'name': 'paidDate',\n",
       "   'type': 'date-time',\n",
       "   'col': 'PAID_DATE',\n",
       "   'pk': False,\n",
       "   'notNull': False,\n",
       "   'encrypt': False,\n",
       "   'autoCreatedInternal': False,\n",
       "   'validators': []},\n",
       "  {'name': 'invoiceMessage',\n",
       "   'type': 'long-varchar',\n",
       "   'col': 'INVOICE_MESSAGE',\n",
       "   'pk': False,\n",
       "   'notNull': False,\n",
       "   'encrypt': False,\n",
       "   'autoCreatedInternal': False,\n",
       "   'validators': []},\n",
       "  {'name': 'referenceNumber',\n",
       "   'type': 'short-varchar',\n",
       "   'col': 'REFERENCE_NUMBER',\n",
       "   'pk': False,\n",
       "   'notNull': False,\n",
       "   'encrypt': False,\n",
       "   'autoCreatedInternal': False,\n",
       "   'validators': []},\n",
       "  {'name': 'description',\n",
       "   'type': 'description',\n",
       "   'col': 'DESCRIPTION',\n",
       "   'pk': False,\n",
       "   'notNull': False,\n",
       "   'encrypt': False,\n",
       "   'autoCreatedInternal': False,\n",
       "   'validators': []},\n",
       "  {'name': 'currencyUomId',\n",
       "   'type': 'id',\n",
       "   'col': 'CURRENCY_UOM_ID',\n",
       "   'pk': False,\n",
       "   'notNull': False,\n",
       "   'encrypt': False,\n",
       "   'autoCreatedInternal': False,\n",
       "   'validators': []},\n",
       "  {'name': 'recurrenceInfoId',\n",
       "   'type': 'id',\n",
       "   'col': 'RECURRENCE_INFO_ID',\n",
       "   'pk': False,\n",
       "   'notNull': False,\n",
       "   'encrypt': False,\n",
       "   'autoCreatedInternal': False,\n",
       "   'validators': []},\n",
       "  {'name': 'lastUpdatedStamp',\n",
       "   'type': 'date-time',\n",
       "   'col': 'LAST_UPDATED_STAMP',\n",
       "   'pk': False,\n",
       "   'notNull': False,\n",
       "   'encrypt': False,\n",
       "   'autoCreatedInternal': True,\n",
       "   'validators': []},\n",
       "  {'name': 'lastUpdatedTxStamp',\n",
       "   'type': 'date-time',\n",
       "   'col': 'LAST_UPDATED_TX_STAMP',\n",
       "   'pk': False,\n",
       "   'notNull': False,\n",
       "   'encrypt': False,\n",
       "   'autoCreatedInternal': True,\n",
       "   'validators': []},\n",
       "  {'name': 'createdStamp',\n",
       "   'type': 'date-time',\n",
       "   'col': 'CREATED_STAMP',\n",
       "   'pk': False,\n",
       "   'notNull': False,\n",
       "   'encrypt': False,\n",
       "   'autoCreatedInternal': True,\n",
       "   'validators': []},\n",
       "  {'name': 'createdTxStamp',\n",
       "   'type': 'date-time',\n",
       "   'col': 'CREATED_TX_STAMP',\n",
       "   'pk': False,\n",
       "   'notNull': False,\n",
       "   'encrypt': False,\n",
       "   'autoCreatedInternal': True,\n",
       "   'validators': []}]}"
      ]
     },
     "execution_count": 32,
     "metadata": {},
     "output_type": "execute_result"
    }
   ],
   "source": [
    "ent=\"Invoice\"\n",
    "model=oc.delegator.getModelEntity(ent)\n",
    "fields=[{\"name\":f.getName(), \"type\":f.getType(), \"col\":f.getColName(),\n",
    "         \"pk\":f.getIsPk(), \"notNull\":f.getIsNotNull(), \"encrypt\":f.getEncrypt(),\n",
    "         \"autoCreatedInternal\": f.getIsAutoCreatedInternal(),\n",
    "         \"validators\":[v for v in f.getValidators()]\n",
    "        } \n",
    "        for f in model.getFieldsIterator()]\n",
    "model_abi={\n",
    "    \"name\": model.getEntityName(),\n",
    "    \"fields\": fields\n",
    "}\n",
    "\n",
    "model_abi"
   ]
  }
 ],
 "metadata": {
  "kernelspec": {
   "display_name": "Python 3",
   "language": "python",
   "name": "python3"
  },
  "language_info": {
   "codemirror_mode": {
    "name": "ipython",
    "version": 3
   },
   "file_extension": ".py",
   "mimetype": "text/x-python",
   "name": "python",
   "nbconvert_exporter": "python",
   "pygments_lexer": "ipython3",
   "version": "3.7.7"
  },
  "varInspector": {
   "cols": {
    "lenName": 16,
    "lenType": 16,
    "lenVar": 40
   },
   "kernels_config": {
    "python": {
     "delete_cmd_postfix": "",
     "delete_cmd_prefix": "del ",
     "library": "var_list.py",
     "varRefreshCmd": "print(var_dic_list())"
    },
    "r": {
     "delete_cmd_postfix": ") ",
     "delete_cmd_prefix": "rm(",
     "library": "var_list.r",
     "varRefreshCmd": "cat(var_dic_list()) "
    }
   },
   "types_to_exclude": [
    "module",
    "function",
    "builtin_function_or_method",
    "instance",
    "_Feature"
   ],
   "window_display": false
  }
 },
 "nbformat": 4,
 "nbformat_minor": 4
}
