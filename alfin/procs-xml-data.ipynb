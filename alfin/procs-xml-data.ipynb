{
 "cells": [
  {
   "cell_type": "code",
   "execution_count": 6,
   "metadata": {
    "ExecuteTime": {
     "end_time": "2021-11-16T06:29:03.530461Z",
     "start_time": "2021-11-16T06:29:03.523089Z"
    }
   },
   "outputs": [
    {
     "data": {
      "text/plain": [
       "<Element 'data' at 0x7fadc080d2f0>"
      ]
     },
     "execution_count": 6,
     "metadata": {},
     "output_type": "execute_result"
    }
   ],
   "source": [
    "import xml.etree.ElementTree as ET\n",
    "sett='<Person partyId=\"DemoApprover\" firstName=\"Demo\" lastName=\"Approver\"/>'\n",
    "root = ET.fromstring('<data>' + sett + '</data>')\n",
    "# root = ET.fromstring(sett)\n",
    "root"
   ]
  },
  {
   "cell_type": "code",
   "execution_count": 7,
   "metadata": {
    "ExecuteTime": {
     "end_time": "2021-11-16T06:29:05.304976Z",
     "start_time": "2021-11-16T06:29:05.298230Z"
    }
   },
   "outputs": [
    {
     "name": "stdout",
     "output_type": "stream",
     "text": [
      "Person\n",
      "{'partyId': 'DemoApprover', 'firstName': 'Demo', 'lastName': 'Approver'}\n"
     ]
    }
   ],
   "source": [
    "for child in root:\n",
    "    print(child.tag)\n",
    "    values=dict(child.attrib)\n",
    "    print(values)"
   ]
  },
  {
   "cell_type": "code",
   "execution_count": 9,
   "metadata": {
    "ExecuteTime": {
     "end_time": "2021-11-16T06:31:24.978765Z",
     "start_time": "2021-11-16T06:31:24.970873Z"
    }
   },
   "outputs": [
    {
     "data": {
      "text/plain": [
       "('Person',\n",
       " {'partyId': 'DemoApprover', 'firstName': 'Demo', 'lastName': 'Approver'})"
      ]
     },
     "execution_count": 9,
     "metadata": {},
     "output_type": "execute_result"
    }
   ],
   "source": [
    "sett='<Person partyId=\"DemoApprover\" firstName=\"Demo\" lastName=\"Approver\"/>'\n",
    "# root = ET.fromstring('<data>' + sett + '</data>')\n",
    "root = ET.fromstring(sett)\n",
    "root.tag, dict(root.attrib)"
   ]
  }
 ],
 "metadata": {
  "kernelspec": {
   "display_name": "Python 3",
   "language": "python",
   "name": "python3"
  },
  "language_info": {
   "codemirror_mode": {
    "name": "ipython",
    "version": 3
   },
   "file_extension": ".py",
   "mimetype": "text/x-python",
   "name": "python",
   "nbconvert_exporter": "python",
   "pygments_lexer": "ipython3",
   "version": "3.7.7"
  },
  "varInspector": {
   "cols": {
    "lenName": 16,
    "lenType": 16,
    "lenVar": 40
   },
   "kernels_config": {
    "python": {
     "delete_cmd_postfix": "",
     "delete_cmd_prefix": "del ",
     "library": "var_list.py",
     "varRefreshCmd": "print(var_dic_list())"
    },
    "r": {
     "delete_cmd_postfix": ") ",
     "delete_cmd_prefix": "rm(",
     "library": "var_list.r",
     "varRefreshCmd": "cat(var_dic_list()) "
    }
   },
   "types_to_exclude": [
    "module",
    "function",
    "builtin_function_or_method",
    "instance",
    "_Feature"
   ],
   "window_display": false
  }
 },
 "nbformat": 4,
 "nbformat_minor": 4
}
