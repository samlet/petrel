{
 "cells": [
  {
   "cell_type": "code",
   "execution_count": 14,
   "metadata": {
    "ExecuteTime": {
     "end_time": "2021-06-03T07:56:00.905372Z",
     "start_time": "2021-06-03T07:56:00.899360Z"
    }
   },
   "outputs": [],
   "source": [
    "import sys\n",
    "import io\n",
    "from railroad import Diagram, Choice\n",
    "d = Diagram(\"foo\", Choice(0, \"bar\", \"baz\"))\n",
    "output = io.StringIO()\n",
    "# d.writeSvg(sys.stdout.write)\n",
    "d.writeSvg(output.write)"
   ]
  },
  {
   "cell_type": "code",
   "execution_count": 15,
   "metadata": {
    "ExecuteTime": {
     "end_time": "2021-06-03T07:56:02.500779Z",
     "start_time": "2021-06-03T07:56:02.493554Z"
    }
   },
   "outputs": [
    {
     "data": {
      "text/plain": [
       "'<svg class=\"railroad-diagram\" height=\"92\" viewBox=\"0 0 231.0 92\" width=\"231.0\" xmlns=\"http://www.w3.'"
      ]
     },
     "execution_count": 15,
     "metadata": {},
     "output_type": "execute_result"
    }
   ],
   "source": [
    "contents = output.getvalue()\n",
    "output.close()\n",
    "\n",
    "contents[:100]"
   ]
  },
  {
   "cell_type": "code",
   "execution_count": 16,
   "metadata": {
    "ExecuteTime": {
     "end_time": "2021-06-03T07:56:05.546190Z",
     "start_time": "2021-06-03T07:56:05.537594Z"
    }
   },
   "outputs": [
    {
     "data": {
      "image/svg+xml": [
       "<svg class=\"railroad-diagram\" height=\"92\" viewBox=\"0 0 231.0 92\" width=\"231.0\" xmlns=\"http://www.w3.org/2000/svg\">\n",
       "<g transform=\"translate(.5 .5)\">\n",
       "<style>/* <![CDATA[ */\n",
       "\tsvg.railroad-diagram {\n",
       "\t\tbackground-color:hsl(30,20%,95%);\n",
       "\t}\n",
       "\tsvg.railroad-diagram path {\n",
       "\t\tstroke-width:3;\n",
       "\t\tstroke:black;\n",
       "\t\tfill:rgba(0,0,0,0);\n",
       "\t}\n",
       "\tsvg.railroad-diagram text {\n",
       "\t\tfont:bold 14px monospace;\n",
       "\t\ttext-anchor:middle;\n",
       "\t}\n",
       "\tsvg.railroad-diagram text.label{\n",
       "\t\ttext-anchor:start;\n",
       "\t}\n",
       "\tsvg.railroad-diagram text.comment{\n",
       "\t\tfont:italic 12px monospace;\n",
       "\t}\n",
       "\tsvg.railroad-diagram rect{\n",
       "\t\tstroke-width:3;\n",
       "\t\tstroke:black;\n",
       "\t\tfill:hsl(120,100%,90%);\n",
       "\t}\n",
       "\tsvg.railroad-diagram rect.group-box {\n",
       "\t\tstroke: gray;\n",
       "\t\tstroke-dasharray: 10 5;\n",
       "\t\tfill: none;\n",
       "\t}\n",
       "\n",
       "/* ]]> */\n",
       "</style><g>\n",
       "<path d=\"M20 21v20m10 -20v20m-10 -10h20\"/></g><path d=\"M40 31h10\"/><g class=\"terminal \">\n",
       "<path d=\"M50 31h0.0\"/><path d=\"M95.5 31h0.0\"/><rect height=\"22\" rx=\"10\" ry=\"10\" width=\"45.5\" x=\"50.0\" y=\"20\"/><text x=\"72.75\" y=\"35\">foo</text></g><path d=\"M95.5 31h10\"/><g>\n",
       "<path d=\"M105.5 31h0.0\"/><path d=\"M191.0 31h0.0\"/><path d=\"M105.5 31h20\"/><g class=\"terminal \">\n",
       "<path d=\"M125.5 31h0.0\"/><path d=\"M171.0 31h0.0\"/><rect height=\"22\" rx=\"10\" ry=\"10\" width=\"45.5\" x=\"125.5\" y=\"20\"/><text x=\"148.25\" y=\"35\">bar</text></g><path d=\"M171.0 31h20\"/><path d=\"M105.5 31a10 10 0 0 1 10 10v10a10 10 0 0 0 10 10\"/><g class=\"terminal \">\n",
       "<path d=\"M125.5 61h0.0\"/><path d=\"M171.0 61h0.0\"/><rect height=\"22\" rx=\"10\" ry=\"10\" width=\"45.5\" x=\"125.5\" y=\"50\"/><text x=\"148.25\" y=\"65\">baz</text></g><path d=\"M171.0 61a10 10 0 0 0 10 -10v-10a10 10 0 0 1 10 -10\"/></g><path d=\"M 191.0 31 h 20 m -10 -10 v 20 m 10 -20 v 20\"/></g></svg>"
      ],
      "text/plain": [
       "<IPython.core.display.SVG object>"
      ]
     },
     "metadata": {},
     "output_type": "display_data"
    }
   ],
   "source": [
    "from IPython.display import SVG\n",
    "display(SVG(contents))"
   ]
  }
 ],
 "metadata": {
  "kernelspec": {
   "display_name": "Python 3",
   "language": "python",
   "name": "python3"
  },
  "language_info": {
   "codemirror_mode": {
    "name": "ipython",
    "version": 3
   },
   "file_extension": ".py",
   "mimetype": "text/x-python",
   "name": "python",
   "nbconvert_exporter": "python",
   "pygments_lexer": "ipython3",
   "version": "3.7.7"
  },
  "varInspector": {
   "cols": {
    "lenName": 16,
    "lenType": 16,
    "lenVar": 40
   },
   "kernels_config": {
    "python": {
     "delete_cmd_postfix": "",
     "delete_cmd_prefix": "del ",
     "library": "var_list.py",
     "varRefreshCmd": "print(var_dic_list())"
    },
    "r": {
     "delete_cmd_postfix": ") ",
     "delete_cmd_prefix": "rm(",
     "library": "var_list.r",
     "varRefreshCmd": "cat(var_dic_list()) "
    }
   },
   "types_to_exclude": [
    "module",
    "function",
    "builtin_function_or_method",
    "instance",
    "_Feature"
   ],
   "window_display": false
  }
 },
 "nbformat": 4,
 "nbformat_minor": 4
}
